{
 "cells": [
  {
   "cell_type": "markdown",
   "id": "ef33b027",
   "metadata": {},
   "source": [
    "# import libraries"
   ]
  },
  {
   "cell_type": "code",
   "execution_count": null,
   "id": "13476a08",
   "metadata": {},
   "outputs": [],
   "source": [
    "from sklearn.preprocessing import LabelEncoder, OneHotEncoder\n",
    "import numpy as np\n",
    "from sklearn.impute import SimpleImputer\n",
    "import pandas as pd"
   ]
  },
  {
   "cell_type": "markdown",
   "id": "21233b9e",
   "metadata": {},
   "source": [
    "# print head of the data"
   ]
  },
  {
   "cell_type": "code",
   "execution_count": null,
   "id": "ed68dee5",
   "metadata": {},
   "outputs": [],
   "source": [
    "df = pd.read_csv('dataset.csv')\n",
    "\n",
    "print(df.head())"
   ]
  },
  {
   "cell_type": "markdown",
   "id": "7a7bc2c1",
   "metadata": {},
   "source": [
    "# print info of the data"
   ]
  },
  {
   "cell_type": "code",
   "execution_count": null,
   "id": "fd1c43f9",
   "metadata": {},
   "outputs": [],
   "source": [
    "print(df.info())"
   ]
  },
  {
   "cell_type": "markdown",
   "id": "dd219e68",
   "metadata": {},
   "source": [
    "# show the missing values"
   ]
  },
  {
   "cell_type": "code",
   "execution_count": null,
   "id": "8a90b46d",
   "metadata": {},
   "outputs": [],
   "source": [
    "print(df.isnull().sum())"
   ]
  }
 ],
 "metadata": {
  "kernelspec": {
   "display_name": "Python 3 (ipykernel)",
   "language": "python",
   "name": "python3"
  },
  "language_info": {
   "codemirror_mode": {
    "name": "ipython",
    "version": 3
   },
   "file_extension": ".py",
   "mimetype": "text/x-python",
   "name": "python",
   "nbconvert_exporter": "python",
   "pygments_lexer": "ipython3",
   "version": "3.11.8"
  }
 },
 "nbformat": 4,
 "nbformat_minor": 5
}
