{
 "cells": [
  {
   "cell_type": "markdown",
   "id": "3371928d",
   "metadata": {},
   "source": [
    "# Consumer Complaint Database\n",
    "\n",
    "https://catalog.data.gov/dataset/consumer-complaint-database\n",
    "\n",
    "# Predicting the company response to consumer complaints"
   ]
  },
  {
   "cell_type": "markdown",
   "id": "ef33b027",
   "metadata": {},
   "source": [
    "# import libraries"
   ]
  },
  {
   "cell_type": "code",
   "execution_count": 1,
   "id": "8fcbf079",
   "metadata": {},
   "outputs": [],
   "source": [
    "import time\n",
    "from IPython.display import display\n",
    "from sklearn.ensemble import RandomForestClassifier\n",
    "from sklearn.feature_selection import SelectKBest\n",
    "from sklearn.feature_selection import f_classif\n",
    "from sklearn.impute import SimpleImputer\n",
    "from sklearn.linear_model import LogisticRegression\n",
    "from sklearn.metrics import accuracy_score\n",
    "from sklearn.model_selection import KFold\n",
    "from sklearn.model_selection import cross_val_score\n",
    "from sklearn.model_selection import train_test_split\n",
    "from sklearn.neighbors import KNeighborsClassifier\n",
    "from sklearn.preprocessing import LabelEncoder, OneHotEncoder\n",
    "from sklearn.preprocessing import StandardScaler\n",
    "from sklearn.tree import DecisionTreeClassifier\n",
    "from sklearn.ensemble import AdaBoostClassifier\n",
    "import numpy as np\n",
    "import pandas as pd\n",
    "from ydata_profiling import ProfileReport\n",
    "\n",
    "\n",
    "# pd.options.display.max_columns = None"
   ]
  },
  {
   "cell_type": "markdown",
   "id": "eb124191",
   "metadata": {},
   "source": [
    "# keep only 100000 records"
   ]
  },
  {
   "cell_type": "code",
   "execution_count": null,
   "id": "62d330d1",
   "metadata": {},
   "outputs": [],
   "source": [
    "with open('dataset.csv', 'r', encoding='utf-8') as f:\n",
    "    lines = f.readlines()\n",
    "\n",
    "with open('dataset.csv', 'w', encoding='utf-8') as f:\n",
    "    f.writelines(lines[:100000])\n",
    "\n",
    "del lines\n",
    "del f"
   ]
  },
  {
   "cell_type": "markdown",
   "id": "21233b9e",
   "metadata": {},
   "source": [
    "# print head of the data"
   ]
  },
  {
   "cell_type": "code",
   "execution_count": 2,
   "id": "ed68dee5",
   "metadata": {},
   "outputs": [],
   "source": [
    "df = pd.read_csv('dataset.csv')"
   ]
  },
  {
   "cell_type": "markdown",
   "id": "da014755",
   "metadata": {},
   "source": [
    "# Generate a report of the data"
   ]
  },
  {
   "cell_type": "code",
   "execution_count": null,
   "id": "e9dfaf92",
   "metadata": {},
   "outputs": [],
   "source": [
    "profile = ProfileReport(df, title='Pandas Profiling Report', explorative=True)\n",
    "profile.to_notebook_iframe()"
   ]
  },
  {
   "cell_type": "markdown",
   "id": "7a7bc2c1",
   "metadata": {},
   "source": [
    "# print info of the data"
   ]
  },
  {
   "cell_type": "code",
   "execution_count": 3,
   "id": "fd1c43f9",
   "metadata": {},
   "outputs": [
    {
     "name": "stdout",
     "output_type": "stream",
     "text": [
      "<class 'pandas.core.frame.DataFrame'>\n",
      "RangeIndex: 944235 entries, 0 to 944234\n",
      "Data columns (total 28 columns):\n",
      " #   Column          Non-Null Count   Dtype  \n",
      "---  ------          --------------   -----  \n",
      " 0   DR_NO           944235 non-null  int64  \n",
      " 1   Date Rptd       944235 non-null  object \n",
      " 2   DATE OCC        944235 non-null  object \n",
      " 3   TIME OCC        944235 non-null  int64  \n",
      " 4   AREA            944235 non-null  int64  \n",
      " 5   AREA NAME       944235 non-null  object \n",
      " 6   Rpt Dist No     944235 non-null  int64  \n",
      " 7   Part 1-2        944235 non-null  int64  \n",
      " 8   Crm Cd          944235 non-null  int64  \n",
      " 9   Crm Cd Desc     944235 non-null  object \n",
      " 10  Mocodes         811136 non-null  object \n",
      " 11  Vict Age        944235 non-null  int64  \n",
      " 12  Vict Sex        817640 non-null  object \n",
      " 13  Vict Descent    817630 non-null  object \n",
      " 14  Premis Cd       944225 non-null  float64\n",
      " 15  Premis Desc     943668 non-null  object \n",
      " 16  Weapon Used Cd  324477 non-null  float64\n",
      " 17  Weapon Desc     324477 non-null  object \n",
      " 18  Status          944235 non-null  object \n",
      " 19  Status Desc     944235 non-null  object \n",
      " 20  Crm Cd 1        944224 non-null  float64\n",
      " 21  Crm Cd 2        68258 non-null   float64\n",
      " 22  Crm Cd 3        2281 non-null    float64\n",
      " 23  Crm Cd 4        64 non-null      float64\n",
      " 24  LOCATION        944235 non-null  object \n",
      " 25  Cross Street    147592 non-null  object \n",
      " 26  LAT             944235 non-null  float64\n",
      " 27  LON             944235 non-null  float64\n",
      "dtypes: float64(8), int64(7), object(13)\n",
      "memory usage: 201.7+ MB\n"
     ]
    },
    {
     "data": {
      "text/plain": [
       "None"
      ]
     },
     "metadata": {},
     "output_type": "display_data"
    },
    {
     "data": {
      "text/html": [
       "<div>\n",
       "<style scoped>\n",
       "    .dataframe tbody tr th:only-of-type {\n",
       "        vertical-align: middle;\n",
       "    }\n",
       "\n",
       "    .dataframe tbody tr th {\n",
       "        vertical-align: top;\n",
       "    }\n",
       "\n",
       "    .dataframe thead th {\n",
       "        text-align: right;\n",
       "    }\n",
       "</style>\n",
       "<table border=\"1\" class=\"dataframe\">\n",
       "  <thead>\n",
       "    <tr style=\"text-align: right;\">\n",
       "      <th></th>\n",
       "      <th>DR_NO</th>\n",
       "      <th>Date Rptd</th>\n",
       "      <th>DATE OCC</th>\n",
       "      <th>TIME OCC</th>\n",
       "      <th>AREA</th>\n",
       "      <th>AREA NAME</th>\n",
       "      <th>Rpt Dist No</th>\n",
       "      <th>Part 1-2</th>\n",
       "      <th>Crm Cd</th>\n",
       "      <th>Crm Cd Desc</th>\n",
       "      <th>...</th>\n",
       "      <th>Status</th>\n",
       "      <th>Status Desc</th>\n",
       "      <th>Crm Cd 1</th>\n",
       "      <th>Crm Cd 2</th>\n",
       "      <th>Crm Cd 3</th>\n",
       "      <th>Crm Cd 4</th>\n",
       "      <th>LOCATION</th>\n",
       "      <th>Cross Street</th>\n",
       "      <th>LAT</th>\n",
       "      <th>LON</th>\n",
       "    </tr>\n",
       "  </thead>\n",
       "  <tbody>\n",
       "    <tr>\n",
       "      <th>0</th>\n",
       "      <td>190326475</td>\n",
       "      <td>03/01/2020 12:00:00 AM</td>\n",
       "      <td>03/01/2020 12:00:00 AM</td>\n",
       "      <td>2130</td>\n",
       "      <td>7</td>\n",
       "      <td>Wilshire</td>\n",
       "      <td>784</td>\n",
       "      <td>1</td>\n",
       "      <td>510</td>\n",
       "      <td>VEHICLE - STOLEN</td>\n",
       "      <td>...</td>\n",
       "      <td>AA</td>\n",
       "      <td>Adult Arrest</td>\n",
       "      <td>510.0</td>\n",
       "      <td>998.0</td>\n",
       "      <td>NaN</td>\n",
       "      <td>NaN</td>\n",
       "      <td>1900 S  LONGWOOD                     AV</td>\n",
       "      <td>NaN</td>\n",
       "      <td>34.0375</td>\n",
       "      <td>-118.3506</td>\n",
       "    </tr>\n",
       "    <tr>\n",
       "      <th>1</th>\n",
       "      <td>200106753</td>\n",
       "      <td>02/09/2020 12:00:00 AM</td>\n",
       "      <td>02/08/2020 12:00:00 AM</td>\n",
       "      <td>1800</td>\n",
       "      <td>1</td>\n",
       "      <td>Central</td>\n",
       "      <td>182</td>\n",
       "      <td>1</td>\n",
       "      <td>330</td>\n",
       "      <td>BURGLARY FROM VEHICLE</td>\n",
       "      <td>...</td>\n",
       "      <td>IC</td>\n",
       "      <td>Invest Cont</td>\n",
       "      <td>330.0</td>\n",
       "      <td>998.0</td>\n",
       "      <td>NaN</td>\n",
       "      <td>NaN</td>\n",
       "      <td>1000 S  FLOWER                       ST</td>\n",
       "      <td>NaN</td>\n",
       "      <td>34.0444</td>\n",
       "      <td>-118.2628</td>\n",
       "    </tr>\n",
       "    <tr>\n",
       "      <th>2</th>\n",
       "      <td>200320258</td>\n",
       "      <td>11/11/2020 12:00:00 AM</td>\n",
       "      <td>11/04/2020 12:00:00 AM</td>\n",
       "      <td>1700</td>\n",
       "      <td>3</td>\n",
       "      <td>Southwest</td>\n",
       "      <td>356</td>\n",
       "      <td>1</td>\n",
       "      <td>480</td>\n",
       "      <td>BIKE - STOLEN</td>\n",
       "      <td>...</td>\n",
       "      <td>IC</td>\n",
       "      <td>Invest Cont</td>\n",
       "      <td>480.0</td>\n",
       "      <td>NaN</td>\n",
       "      <td>NaN</td>\n",
       "      <td>NaN</td>\n",
       "      <td>1400 W  37TH                         ST</td>\n",
       "      <td>NaN</td>\n",
       "      <td>34.0210</td>\n",
       "      <td>-118.3002</td>\n",
       "    </tr>\n",
       "    <tr>\n",
       "      <th>3</th>\n",
       "      <td>200907217</td>\n",
       "      <td>05/10/2023 12:00:00 AM</td>\n",
       "      <td>03/10/2020 12:00:00 AM</td>\n",
       "      <td>2037</td>\n",
       "      <td>9</td>\n",
       "      <td>Van Nuys</td>\n",
       "      <td>964</td>\n",
       "      <td>1</td>\n",
       "      <td>343</td>\n",
       "      <td>SHOPLIFTING-GRAND THEFT ($950.01 &amp; OVER)</td>\n",
       "      <td>...</td>\n",
       "      <td>IC</td>\n",
       "      <td>Invest Cont</td>\n",
       "      <td>343.0</td>\n",
       "      <td>NaN</td>\n",
       "      <td>NaN</td>\n",
       "      <td>NaN</td>\n",
       "      <td>14000    RIVERSIDE                    DR</td>\n",
       "      <td>NaN</td>\n",
       "      <td>34.1576</td>\n",
       "      <td>-118.4387</td>\n",
       "    </tr>\n",
       "    <tr>\n",
       "      <th>4</th>\n",
       "      <td>220614831</td>\n",
       "      <td>08/18/2022 12:00:00 AM</td>\n",
       "      <td>08/17/2020 12:00:00 AM</td>\n",
       "      <td>1200</td>\n",
       "      <td>6</td>\n",
       "      <td>Hollywood</td>\n",
       "      <td>666</td>\n",
       "      <td>2</td>\n",
       "      <td>354</td>\n",
       "      <td>THEFT OF IDENTITY</td>\n",
       "      <td>...</td>\n",
       "      <td>IC</td>\n",
       "      <td>Invest Cont</td>\n",
       "      <td>354.0</td>\n",
       "      <td>NaN</td>\n",
       "      <td>NaN</td>\n",
       "      <td>NaN</td>\n",
       "      <td>1900    TRANSIENT</td>\n",
       "      <td>NaN</td>\n",
       "      <td>34.0944</td>\n",
       "      <td>-118.3277</td>\n",
       "    </tr>\n",
       "  </tbody>\n",
       "</table>\n",
       "<p>5 rows × 28 columns</p>\n",
       "</div>"
      ],
      "text/plain": [
       "       DR_NO               Date Rptd                DATE OCC  TIME OCC  AREA  \\\n",
       "0  190326475  03/01/2020 12:00:00 AM  03/01/2020 12:00:00 AM      2130     7   \n",
       "1  200106753  02/09/2020 12:00:00 AM  02/08/2020 12:00:00 AM      1800     1   \n",
       "2  200320258  11/11/2020 12:00:00 AM  11/04/2020 12:00:00 AM      1700     3   \n",
       "3  200907217  05/10/2023 12:00:00 AM  03/10/2020 12:00:00 AM      2037     9   \n",
       "4  220614831  08/18/2022 12:00:00 AM  08/17/2020 12:00:00 AM      1200     6   \n",
       "\n",
       "   AREA NAME  Rpt Dist No  Part 1-2  Crm Cd  \\\n",
       "0   Wilshire          784         1     510   \n",
       "1    Central          182         1     330   \n",
       "2  Southwest          356         1     480   \n",
       "3   Van Nuys          964         1     343   \n",
       "4  Hollywood          666         2     354   \n",
       "\n",
       "                                Crm Cd Desc  ... Status   Status Desc  \\\n",
       "0                          VEHICLE - STOLEN  ...     AA  Adult Arrest   \n",
       "1                     BURGLARY FROM VEHICLE  ...     IC   Invest Cont   \n",
       "2                             BIKE - STOLEN  ...     IC   Invest Cont   \n",
       "3  SHOPLIFTING-GRAND THEFT ($950.01 & OVER)  ...     IC   Invest Cont   \n",
       "4                         THEFT OF IDENTITY  ...     IC   Invest Cont   \n",
       "\n",
       "  Crm Cd 1 Crm Cd 2  Crm Cd 3 Crm Cd 4  \\\n",
       "0    510.0    998.0       NaN      NaN   \n",
       "1    330.0    998.0       NaN      NaN   \n",
       "2    480.0      NaN       NaN      NaN   \n",
       "3    343.0      NaN       NaN      NaN   \n",
       "4    354.0      NaN       NaN      NaN   \n",
       "\n",
       "                                   LOCATION Cross Street      LAT       LON  \n",
       "0   1900 S  LONGWOOD                     AV          NaN  34.0375 -118.3506  \n",
       "1   1000 S  FLOWER                       ST          NaN  34.0444 -118.2628  \n",
       "2   1400 W  37TH                         ST          NaN  34.0210 -118.3002  \n",
       "3  14000    RIVERSIDE                    DR          NaN  34.1576 -118.4387  \n",
       "4                         1900    TRANSIENT          NaN  34.0944 -118.3277  \n",
       "\n",
       "[5 rows x 28 columns]"
      ]
     },
     "metadata": {},
     "output_type": "display_data"
    }
   ],
   "source": [
    "display(df.info())\n",
    "display(df.head())"
   ]
  },
  {
   "cell_type": "markdown",
   "id": "dd219e68",
   "metadata": {},
   "source": [
    "# how many records does the data have?"
   ]
  },
  {
   "cell_type": "code",
   "execution_count": 6,
   "id": "8a90b46d",
   "metadata": {},
   "outputs": [
    {
     "data": {
      "text/plain": [
       "'Number of records: '"
      ]
     },
     "metadata": {},
     "output_type": "display_data"
    },
    {
     "data": {
      "text/plain": [
       "944235"
      ]
     },
     "metadata": {},
     "output_type": "display_data"
    }
   ],
   "source": [
    "display(\"Number of records: \", df.shape[0])"
   ]
  },
  {
   "cell_type": "markdown",
   "id": "aadfaf30",
   "metadata": {},
   "source": [
    "# how many features does the data have?\n",
    "\n",
    "In my project, I will consider all the features except the 'Company response\n",
    "to consumer' as the features."
   ]
  },
  {
   "cell_type": "code",
   "execution_count": 7,
   "id": "87f21dc2",
   "metadata": {},
   "outputs": [
    {
     "data": {
      "text/plain": [
       "'Number of features: '"
      ]
     },
     "metadata": {},
     "output_type": "display_data"
    },
    {
     "data": {
      "text/plain": [
       "18"
      ]
     },
     "metadata": {},
     "output_type": "display_data"
    }
   ],
   "source": [
    "display(\"Number of features: \", df.shape[1] - 1)"
   ]
  },
  {
   "cell_type": "markdown",
   "id": "18d2bcfe",
   "metadata": {},
   "source": [
    "# How many many different classes exist in the dataset?"
   ]
  },
  {
   "cell_type": "code",
   "execution_count": 8,
   "id": "774deedb",
   "metadata": {},
   "outputs": [
    {
     "data": {
      "text/plain": [
       "'Number of classes: '"
      ]
     },
     "metadata": {},
     "output_type": "display_data"
    },
    {
     "data": {
      "text/plain": [
       "139"
      ]
     },
     "metadata": {},
     "output_type": "display_data"
    },
    {
     "data": {
      "text/plain": [
       "'Number of examples per class:\\n'"
      ]
     },
     "metadata": {},
     "output_type": "display_data"
    },
    {
     "data": {
      "text/plain": [
       "510    102036\n",
       "624     74509\n",
       "330     58311\n",
       "354     58240\n",
       "310     57497\n",
       "        ...  \n",
       "432         6\n",
       "904         5\n",
       "445         4\n",
       "906         4\n",
       "926         1\n",
       "Name: Crm Cd, Length: 139, dtype: int64"
      ]
     },
     "metadata": {},
     "output_type": "display_data"
    }
   ],
   "source": [
    "display(\"Number of classes: \", len(\n",
    "    df['Company response to consumer'].unique()))\n",
    "display(\"Number of examples per class:\\n\",\n",
    "        df['Company response to consumer'].value_counts())"
   ]
  },
  {
   "cell_type": "markdown",
   "id": "207d1f3c",
   "metadata": {},
   "source": [
    "# show how many NULL values exist in the dataset"
   ]
  },
  {
   "cell_type": "code",
   "execution_count": 9,
   "id": "547085ad",
   "metadata": {},
   "outputs": [
    {
     "data": {
      "text/plain": [
       "'Number of NULL values per feature:\\n'"
      ]
     },
     "metadata": {},
     "output_type": "display_data"
    },
    {
     "data": {
      "text/plain": [
       "Date Rptd              0\n",
       "DATE OCC               0\n",
       "TIME OCC               0\n",
       "AREA                   0\n",
       "Rpt Dist No            0\n",
       "Part 1-2               0\n",
       "Crm Cd                 0\n",
       "Vict Age               0\n",
       "Vict Sex          126595\n",
       "Vict Descent      126605\n",
       "Premis Cd             10\n",
       "Weapon Used Cd    619758\n",
       "Status Desc            0\n",
       "Crm Cd 1              11\n",
       "Crm Cd 2          875977\n",
       "Crm Cd 3          941954\n",
       "Crm Cd 4          944171\n",
       "LOCATION               0\n",
       "Cross Street      796643\n",
       "dtype: int64"
      ]
     },
     "metadata": {},
     "output_type": "display_data"
    }
   ],
   "source": [
    "display(\"Number of NULL values per feature:\\n\", df.isnull().sum())"
   ]
  },
  {
   "cell_type": "markdown",
   "id": "0cc489cf",
   "metadata": {},
   "source": [
    "# Which featiures are not numerical?"
   ]
  },
  {
   "cell_type": "code",
   "execution_count": 10,
   "id": "f7d95bbc",
   "metadata": {},
   "outputs": [
    {
     "data": {
      "text/plain": [
       "'Non numerical features:\\n'"
      ]
     },
     "metadata": {},
     "output_type": "display_data"
    },
    {
     "data": {
      "text/plain": [
       "Index(['Date Rptd', 'DATE OCC', 'Vict Sex', 'Vict Descent', 'Status Desc',\n",
       "       'LOCATION', 'Cross Street'],\n",
       "      dtype='object')"
      ]
     },
     "metadata": {},
     "output_type": "display_data"
    }
   ],
   "source": [
    "display(\"Non numerical features:\\n\",\n",
    "        df.select_dtypes(exclude=[np.number]).columns)"
   ]
  },
  {
   "cell_type": "markdown",
   "id": "b1333c13",
   "metadata": {},
   "source": [
    "# Find the best correlated Features in the Dataset"
   ]
  },
  {
   "cell_type": "code",
   "execution_count": 4,
   "id": "ce748d4b",
   "metadata": {},
   "outputs": [
    {
     "data": {
      "text/plain": [
       "DR_NO       1.000000\n",
       "Crm Cd 4    0.152327\n",
       "Name: DR_NO, dtype: float64"
      ]
     },
     "metadata": {},
     "output_type": "display_data"
    },
    {
     "data": {
      "text/plain": [
       "Date Rptd    1.000000\n",
       "DATE OCC     0.917473\n",
       "Name: Date Rptd, dtype: float64"
      ]
     },
     "metadata": {},
     "output_type": "display_data"
    },
    {
     "data": {
      "text/plain": [
       "DATE OCC     1.000000\n",
       "Date Rptd    0.917473\n",
       "Name: DATE OCC, dtype: float64"
      ]
     },
     "metadata": {},
     "output_type": "display_data"
    },
    {
     "data": {
      "text/plain": [
       "TIME OCC    1.000000\n",
       "Vict Sex    0.045929\n",
       "Name: TIME OCC, dtype: float64"
      ]
     },
     "metadata": {},
     "output_type": "display_data"
    },
    {
     "data": {
      "text/plain": [
       "AREA           1.000000\n",
       "Rpt Dist No    0.999047\n",
       "Name: AREA, dtype: float64"
      ]
     },
     "metadata": {},
     "output_type": "display_data"
    },
    {
     "data": {
      "text/plain": [
       "AREA NAME       1.000000\n",
       "Vict Descent    0.083812\n",
       "Name: AREA NAME, dtype: float64"
      ]
     },
     "metadata": {},
     "output_type": "display_data"
    },
    {
     "data": {
      "text/plain": [
       "Rpt Dist No    1.000000\n",
       "AREA           0.999047\n",
       "Name: Rpt Dist No, dtype: float64"
      ]
     },
     "metadata": {},
     "output_type": "display_data"
    },
    {
     "data": {
      "text/plain": [
       "Part 1-2    1.000000\n",
       "Crm Cd 1    0.702323\n",
       "Name: Part 1-2, dtype: float64"
      ]
     },
     "metadata": {},
     "output_type": "display_data"
    },
    {
     "data": {
      "text/plain": [
       "Crm Cd      1.000000\n",
       "Crm Cd 1    0.999304\n",
       "Name: Crm Cd, dtype: float64"
      ]
     },
     "metadata": {},
     "output_type": "display_data"
    },
    {
     "data": {
      "text/plain": [
       "Crm Cd Desc    1.000000\n",
       "Weapon Desc    0.389155\n",
       "Name: Crm Cd Desc, dtype: float64"
      ]
     },
     "metadata": {},
     "output_type": "display_data"
    },
    {
     "data": {
      "text/plain": [
       "Mocodes     1.000000\n",
       "Vict Sex    0.299887\n",
       "Name: Mocodes, dtype: float64"
      ]
     },
     "metadata": {},
     "output_type": "display_data"
    },
    {
     "data": {
      "text/plain": [
       "Vict Age    1.000000\n",
       "Part 1-2    0.200301\n",
       "Name: Vict Age, dtype: float64"
      ]
     },
     "metadata": {},
     "output_type": "display_data"
    },
    {
     "data": {
      "text/plain": [
       "Vict Sex        1.000000\n",
       "Vict Descent    0.556223\n",
       "Name: Vict Sex, dtype: float64"
      ]
     },
     "metadata": {},
     "output_type": "display_data"
    },
    {
     "data": {
      "text/plain": [
       "Vict Descent    1.000000\n",
       "Vict Sex        0.556223\n",
       "Name: Vict Descent, dtype: float64"
      ]
     },
     "metadata": {},
     "output_type": "display_data"
    },
    {
     "data": {
      "text/plain": [
       "Premis Cd    1.000000\n",
       "Part 1-2     0.270579\n",
       "Name: Premis Cd, dtype: float64"
      ]
     },
     "metadata": {},
     "output_type": "display_data"
    },
    {
     "data": {
      "text/plain": [
       "Premis Desc    1.00000\n",
       "Mocodes        0.14874\n",
       "Name: Premis Desc, dtype: float64"
      ]
     },
     "metadata": {},
     "output_type": "display_data"
    },
    {
     "data": {
      "text/plain": [
       "Weapon Used Cd    1.000000\n",
       "Weapon Desc       0.678767\n",
       "Name: Weapon Used Cd, dtype: float64"
      ]
     },
     "metadata": {},
     "output_type": "display_data"
    },
    {
     "data": {
      "text/plain": [
       "Weapon Desc       1.000000\n",
       "Weapon Used Cd    0.678767\n",
       "Name: Weapon Desc, dtype: float64"
      ]
     },
     "metadata": {},
     "output_type": "display_data"
    },
    {
     "data": {
      "text/plain": [
       "Status         1.000000\n",
       "Status Desc    0.988045\n",
       "Name: Status, dtype: float64"
      ]
     },
     "metadata": {},
     "output_type": "display_data"
    },
    {
     "data": {
      "text/plain": [
       "Status Desc    1.000000\n",
       "Status         0.988045\n",
       "Name: Status Desc, dtype: float64"
      ]
     },
     "metadata": {},
     "output_type": "display_data"
    },
    {
     "data": {
      "text/plain": [
       "Crm Cd 1    1.000000\n",
       "Crm Cd      0.999304\n",
       "Name: Crm Cd 1, dtype: float64"
      ]
     },
     "metadata": {},
     "output_type": "display_data"
    },
    {
     "data": {
      "text/plain": [
       "Crm Cd 2    1.000000\n",
       "Crm Cd 3    0.292795\n",
       "Name: Crm Cd 2, dtype: float64"
      ]
     },
     "metadata": {},
     "output_type": "display_data"
    },
    {
     "data": {
      "text/plain": [
       "Crm Cd 3    1.000000\n",
       "Crm Cd 2    0.292795\n",
       "Name: Crm Cd 3, dtype: float64"
      ]
     },
     "metadata": {},
     "output_type": "display_data"
    },
    {
     "data": {
      "text/plain": [
       "Crm Cd 4    1.000000\n",
       "LOCATION    0.184528\n",
       "Name: Crm Cd 4, dtype: float64"
      ]
     },
     "metadata": {},
     "output_type": "display_data"
    },
    {
     "data": {
      "text/plain": [
       "LOCATION    1.000000\n",
       "Crm Cd 4    0.184528\n",
       "Name: LOCATION, dtype: float64"
      ]
     },
     "metadata": {},
     "output_type": "display_data"
    },
    {
     "data": {
      "text/plain": [
       "Cross Street    1.000000\n",
       "Premis Cd       0.251012\n",
       "Name: Cross Street, dtype: float64"
      ]
     },
     "metadata": {},
     "output_type": "display_data"
    },
    {
     "data": {
      "text/plain": [
       "LAT         1.000000\n",
       "Crm Cd 4    0.100286\n",
       "Name: LAT, dtype: float64"
      ]
     },
     "metadata": {},
     "output_type": "display_data"
    },
    {
     "data": {
      "text/plain": [
       "LON         1.000000\n",
       "Crm Cd 1    0.039721\n",
       "Name: LON, dtype: float64"
      ]
     },
     "metadata": {},
     "output_type": "display_data"
    }
   ],
   "source": [
    "df_tmp = df.copy()\n",
    "label_encoder = LabelEncoder()\n",
    "for column in df_tmp.select_dtypes(include=['object']).columns:\n",
    "    df_tmp[column] = label_encoder.fit_transform(df_tmp[column].astype(str))\n",
    "df_tmp = (df_tmp - df_tmp.mean()) / df_tmp.std()\n",
    "correlation = df_tmp.corr()\n",
    "\n",
    "# Find the best-correlated features in pairs\n",
    "for column in correlation.columns:\n",
    "    display(correlation[column].sort_values(ascending=False).head(2))"
   ]
  },
  {
   "cell_type": "markdown",
   "id": "0922e5d5",
   "metadata": {},
   "source": [
    "# Remove the features that have a high correlation with each other"
   ]
  },
  {
   "cell_type": "code",
   "execution_count": 5,
   "id": "15570ce8",
   "metadata": {},
   "outputs": [],
   "source": [
    "# correlated with 'Date received'\n",
    "df = df.drop(columns=['Date sent to company'])"
   ]
  },
  {
   "cell_type": "markdown",
   "id": "7410d9d7",
   "metadata": {},
   "source": [
    "# Remove the `Complaint ID` feature, because it's not useful for the\n",
    "classification, Since all the values are unique."
   ]
  },
  {
   "cell_type": "code",
   "execution_count": null,
   "id": "7380933a",
   "metadata": {
    "lines_to_next_cell": 2
   },
   "outputs": [],
   "source": [
    "df = df.drop(columns=['Complaint ID',\n",
    "             'Consumer complaint narrative', 'Company public response'])"
   ]
  },
  {
   "cell_type": "markdown",
   "id": "7d52203e",
   "metadata": {},
   "source": [
    "# In `ZIP code` replace the `XXXXX` with the `np.nan` and convert the feature\n",
    "to float"
   ]
  },
  {
   "cell_type": "code",
   "execution_count": null,
   "id": "bbb33d5e",
   "metadata": {},
   "outputs": [],
   "source": [
    "df['ZIP code'] = df['ZIP code'].replace('XXXXX', np.nan)"
   ]
  },
  {
   "cell_type": "markdown",
   "id": "85b0ad91",
   "metadata": {},
   "source": [
    "# Transform the `Date received` to three features of year, month, and day"
   ]
  },
  {
   "cell_type": "code",
   "execution_count": null,
   "id": "de729a35",
   "metadata": {},
   "outputs": [],
   "source": [
    "df['Date received'] = pd.to_datetime(df['Date received'])\n",
    "\n",
    "df['YEAR RECEIVED'] = df['Date received'].dt.year\n",
    "df['MONTH RECEIVED'] = df['Date received'].dt.month\n",
    "df['DAY RECEIVED'] = df['Date received'].dt.day\n",
    "\n",
    "df = df.drop(columns=['Date received'])"
   ]
  },
  {
   "cell_type": "markdown",
   "id": "e501c312",
   "metadata": {},
   "source": [
    "# Remove the rows that have NULL values in the `Issue` and `Company response\n",
    "to consumer`"
   ]
  },
  {
   "cell_type": "code",
   "execution_count": null,
   "id": "fbff753d",
   "metadata": {},
   "outputs": [],
   "source": [
    "df.dropna(subset=['Issue', 'Company response to consumer'], inplace=True)"
   ]
  },
  {
   "cell_type": "markdown",
   "id": "2ba2d383",
   "metadata": {},
   "source": [
    "# transform the following features with LabelEncoder\n",
    "\n",
    "'Product', 'Sub-product', 'Issue', 'Sub-issue', 'Company', 'State',\n",
    "'ZIP code', 'Company response to consumer', 'Timely response?',\n",
    "'Consumer disputed?'"
   ]
  },
  {
   "cell_type": "code",
   "execution_count": null,
   "id": "0be37a82",
   "metadata": {},
   "outputs": [],
   "source": [
    "label_encoder = LabelEncoder()\n",
    "\n",
    "for col in ['Product', 'Sub-product', 'Issue', 'Sub-issue', 'Company', 'State',\n",
    "            'ZIP code', 'Company response to consumer', 'Timely response?',\n",
    "            'Consumer disputed?']:\n",
    "    df[col] = label_encoder.fit_transform(df[col].astype(str))"
   ]
  },
  {
   "cell_type": "markdown",
   "id": "25d41f0e",
   "metadata": {},
   "source": [
    "# transform the following features with OneHotEncoder\n",
    "\n",
    "'Tags', 'Consumer consent provided?', 'Submitted via',"
   ]
  },
  {
   "cell_type": "code",
   "execution_count": null,
   "id": "76eced4a",
   "metadata": {},
   "outputs": [],
   "source": [
    "one_hot_encoder = OneHotEncoder()\n",
    "transformed_data = one_hot_encoder.fit_transform(df[['Tags']]).toarray()\n",
    "column_names = one_hot_encoder.categories_[0]\n",
    "column_names = np.where(pd.isna(column_names), 'tags_unknown', column_names)\n",
    "df = pd.concat(\n",
    "    [df, pd.DataFrame(transformed_data, columns=column_names)], axis=1)\n",
    "\n",
    "transformed_data = one_hot_encoder.fit_transform(\n",
    "    df[['Consumer consent provided?']]).toarray()\n",
    "column_names = one_hot_encoder.categories_[0]\n",
    "column_names = np.where(pd.isna(column_names),\n",
    "                        'consumer_consent_unknown', column_names)\n",
    "df = pd.concat(\n",
    "    [df, pd.DataFrame(transformed_data, columns=column_names)], axis=1)\n",
    "\n",
    "transformed_data = one_hot_encoder.fit_transform(\n",
    "    df[['Submitted via']]).toarray()\n",
    "column_names = one_hot_encoder.categories_[0]\n",
    "column_names = np.where(pd.isna(column_names),\n",
    "                        'submitted_via_unknown', column_names)\n",
    "df = pd.concat(\n",
    "    [df, pd.DataFrame(transformed_data, columns=column_names)], axis=1)\n",
    "\n",
    "df = df.drop(\n",
    "    columns=['tags_unknown', 'consumer_consent_unknown', 'submitted_via_unknown'])\n",
    "\n",
    "df = df.drop(columns=['Tags', 'Consumer consent provided?', 'Submitted via'])"
   ]
  },
  {
   "cell_type": "markdown",
   "id": "855819a3",
   "metadata": {},
   "source": [
    "# drop the rest of the rows that have NULL values"
   ]
  },
  {
   "cell_type": "code",
   "execution_count": 20,
   "id": "4b59238c",
   "metadata": {},
   "outputs": [],
   "source": [
    "df.dropna(inplace=True)"
   ]
  },
  {
   "cell_type": "markdown",
   "id": "f7663dd0",
   "metadata": {},
   "source": [
    "# Remove the data after the row 20000"
   ]
  },
  {
   "cell_type": "code",
   "execution_count": null,
   "id": "2890b3b6",
   "metadata": {},
   "outputs": [],
   "source": [
    "df = df.iloc[:20000]"
   ]
  },
  {
   "cell_type": "markdown",
   "id": "82201bb7",
   "metadata": {},
   "source": [
    "# simple impute"
   ]
  },
  {
   "cell_type": "code",
   "execution_count": 21,
   "id": "577b752c",
   "metadata": {},
   "outputs": [],
   "source": [
    "imputer = SimpleImputer(strategy='mean')\n",
    "df = pd.DataFrame(imputer.fit_transform(df), columns=df.columns)"
   ]
  },
  {
   "cell_type": "markdown",
   "id": "72f7a7f5",
   "metadata": {},
   "source": [
    "# display the head and info of the data"
   ]
  },
  {
   "cell_type": "code",
   "execution_count": 22,
   "id": "173afd6f",
   "metadata": {},
   "outputs": [
    {
     "name": "stdout",
     "output_type": "stream",
     "text": [
      "<class 'pandas.core.frame.DataFrame'>\n",
      "RangeIndex: 710090 entries, 0 to 710089\n",
      "Data columns (total 28 columns):\n",
      " #   Column          Non-Null Count   Dtype  \n",
      "---  ------          --------------   -----  \n",
      " 0   TIME OCC        710090 non-null  float64\n",
      " 1   AREA            710090 non-null  float64\n",
      " 2   Rpt Dist No     710090 non-null  float64\n",
      " 3   Part 1-2        710090 non-null  float64\n",
      " 4   Crm Cd          710090 non-null  float64\n",
      " 5   Vict Age        710090 non-null  float64\n",
      " 6   Vict Sex        710090 non-null  float64\n",
      " 7   Vict Descent    710090 non-null  float64\n",
      " 8   Premis Cd       710090 non-null  float64\n",
      " 9   Weapon Used Cd  710090 non-null  float64\n",
      " 10  Crm Cd 1        710090 non-null  float64\n",
      " 11  Crm Cd 2        710090 non-null  float64\n",
      " 12  Crm Cd 3        710090 non-null  float64\n",
      " 13  Crm Cd 4        710090 non-null  float64\n",
      " 14  LOCATION        710090 non-null  float64\n",
      " 15  Cross Street    710090 non-null  float64\n",
      " 16  YEAR OCC        710090 non-null  float64\n",
      " 17  MONTH OCC       710090 non-null  float64\n",
      " 18  DAY OCC         710090 non-null  float64\n",
      " 19  YEAR RPTD       710090 non-null  float64\n",
      " 20  MONTH RPTD      710090 non-null  float64\n",
      " 21  DAY RPTD        710090 non-null  float64\n",
      " 22  Adult Arrest    710090 non-null  float64\n",
      " 23  Adult Other     710090 non-null  float64\n",
      " 24  Invest Cont     710090 non-null  float64\n",
      " 25  Juv Arrest      710090 non-null  float64\n",
      " 26  Juv Other       710090 non-null  float64\n",
      " 27  UNK             710090 non-null  float64\n",
      "dtypes: float64(28)\n",
      "memory usage: 151.7 MB\n"
     ]
    },
    {
     "data": {
      "text/plain": [
       "None"
      ]
     },
     "metadata": {},
     "output_type": "display_data"
    },
    {
     "data": {
      "text/html": [
       "<div>\n",
       "<style scoped>\n",
       "    .dataframe tbody tr th:only-of-type {\n",
       "        vertical-align: middle;\n",
       "    }\n",
       "\n",
       "    .dataframe tbody tr th {\n",
       "        vertical-align: top;\n",
       "    }\n",
       "\n",
       "    .dataframe thead th {\n",
       "        text-align: right;\n",
       "    }\n",
       "</style>\n",
       "<table border=\"1\" class=\"dataframe\">\n",
       "  <thead>\n",
       "    <tr style=\"text-align: right;\">\n",
       "      <th></th>\n",
       "      <th>TIME OCC</th>\n",
       "      <th>AREA</th>\n",
       "      <th>Rpt Dist No</th>\n",
       "      <th>Part 1-2</th>\n",
       "      <th>Crm Cd</th>\n",
       "      <th>Vict Age</th>\n",
       "      <th>Vict Sex</th>\n",
       "      <th>Vict Descent</th>\n",
       "      <th>Premis Cd</th>\n",
       "      <th>Weapon Used Cd</th>\n",
       "      <th>...</th>\n",
       "      <th>DAY OCC</th>\n",
       "      <th>YEAR RPTD</th>\n",
       "      <th>MONTH RPTD</th>\n",
       "      <th>DAY RPTD</th>\n",
       "      <th>Adult Arrest</th>\n",
       "      <th>Adult Other</th>\n",
       "      <th>Invest Cont</th>\n",
       "      <th>Juv Arrest</th>\n",
       "      <th>Juv Other</th>\n",
       "      <th>UNK</th>\n",
       "    </tr>\n",
       "  </thead>\n",
       "  <tbody>\n",
       "    <tr>\n",
       "      <th>0</th>\n",
       "      <td>2130.0</td>\n",
       "      <td>7.0</td>\n",
       "      <td>784.0</td>\n",
       "      <td>1.0</td>\n",
       "      <td>510.0</td>\n",
       "      <td>0.0</td>\n",
       "      <td>3.0</td>\n",
       "      <td>12.0</td>\n",
       "      <td>101.0</td>\n",
       "      <td>0.0</td>\n",
       "      <td>...</td>\n",
       "      <td>1.0</td>\n",
       "      <td>2020.0</td>\n",
       "      <td>3.0</td>\n",
       "      <td>1.0</td>\n",
       "      <td>1.0</td>\n",
       "      <td>0.0</td>\n",
       "      <td>0.0</td>\n",
       "      <td>0.0</td>\n",
       "      <td>0.0</td>\n",
       "      <td>0.0</td>\n",
       "    </tr>\n",
       "    <tr>\n",
       "      <th>1</th>\n",
       "      <td>1800.0</td>\n",
       "      <td>1.0</td>\n",
       "      <td>182.0</td>\n",
       "      <td>1.0</td>\n",
       "      <td>330.0</td>\n",
       "      <td>47.0</td>\n",
       "      <td>3.0</td>\n",
       "      <td>12.0</td>\n",
       "      <td>128.0</td>\n",
       "      <td>0.0</td>\n",
       "      <td>...</td>\n",
       "      <td>8.0</td>\n",
       "      <td>2020.0</td>\n",
       "      <td>2.0</td>\n",
       "      <td>9.0</td>\n",
       "      <td>0.0</td>\n",
       "      <td>0.0</td>\n",
       "      <td>1.0</td>\n",
       "      <td>0.0</td>\n",
       "      <td>0.0</td>\n",
       "      <td>0.0</td>\n",
       "    </tr>\n",
       "    <tr>\n",
       "      <th>2</th>\n",
       "      <td>1700.0</td>\n",
       "      <td>3.0</td>\n",
       "      <td>356.0</td>\n",
       "      <td>1.0</td>\n",
       "      <td>480.0</td>\n",
       "      <td>19.0</td>\n",
       "      <td>4.0</td>\n",
       "      <td>18.0</td>\n",
       "      <td>502.0</td>\n",
       "      <td>0.0</td>\n",
       "      <td>...</td>\n",
       "      <td>4.0</td>\n",
       "      <td>2020.0</td>\n",
       "      <td>11.0</td>\n",
       "      <td>11.0</td>\n",
       "      <td>0.0</td>\n",
       "      <td>0.0</td>\n",
       "      <td>1.0</td>\n",
       "      <td>0.0</td>\n",
       "      <td>0.0</td>\n",
       "      <td>0.0</td>\n",
       "    </tr>\n",
       "    <tr>\n",
       "      <th>3</th>\n",
       "      <td>2037.0</td>\n",
       "      <td>9.0</td>\n",
       "      <td>964.0</td>\n",
       "      <td>1.0</td>\n",
       "      <td>343.0</td>\n",
       "      <td>19.0</td>\n",
       "      <td>3.0</td>\n",
       "      <td>12.0</td>\n",
       "      <td>405.0</td>\n",
       "      <td>0.0</td>\n",
       "      <td>...</td>\n",
       "      <td>10.0</td>\n",
       "      <td>2023.0</td>\n",
       "      <td>5.0</td>\n",
       "      <td>10.0</td>\n",
       "      <td>0.0</td>\n",
       "      <td>0.0</td>\n",
       "      <td>1.0</td>\n",
       "      <td>0.0</td>\n",
       "      <td>0.0</td>\n",
       "      <td>0.0</td>\n",
       "    </tr>\n",
       "    <tr>\n",
       "      <th>4</th>\n",
       "      <td>1200.0</td>\n",
       "      <td>6.0</td>\n",
       "      <td>666.0</td>\n",
       "      <td>2.0</td>\n",
       "      <td>354.0</td>\n",
       "      <td>28.0</td>\n",
       "      <td>3.0</td>\n",
       "      <td>7.0</td>\n",
       "      <td>102.0</td>\n",
       "      <td>0.0</td>\n",
       "      <td>...</td>\n",
       "      <td>17.0</td>\n",
       "      <td>2022.0</td>\n",
       "      <td>8.0</td>\n",
       "      <td>18.0</td>\n",
       "      <td>0.0</td>\n",
       "      <td>0.0</td>\n",
       "      <td>1.0</td>\n",
       "      <td>0.0</td>\n",
       "      <td>0.0</td>\n",
       "      <td>0.0</td>\n",
       "    </tr>\n",
       "  </tbody>\n",
       "</table>\n",
       "<p>5 rows × 28 columns</p>\n",
       "</div>"
      ],
      "text/plain": [
       "   TIME OCC  AREA  Rpt Dist No  Part 1-2  Crm Cd  Vict Age  Vict Sex  \\\n",
       "0    2130.0   7.0        784.0       1.0   510.0       0.0       3.0   \n",
       "1    1800.0   1.0        182.0       1.0   330.0      47.0       3.0   \n",
       "2    1700.0   3.0        356.0       1.0   480.0      19.0       4.0   \n",
       "3    2037.0   9.0        964.0       1.0   343.0      19.0       3.0   \n",
       "4    1200.0   6.0        666.0       2.0   354.0      28.0       3.0   \n",
       "\n",
       "   Vict Descent  Premis Cd  Weapon Used Cd  ...  DAY OCC  YEAR RPTD  \\\n",
       "0          12.0      101.0             0.0  ...      1.0     2020.0   \n",
       "1          12.0      128.0             0.0  ...      8.0     2020.0   \n",
       "2          18.0      502.0             0.0  ...      4.0     2020.0   \n",
       "3          12.0      405.0             0.0  ...     10.0     2023.0   \n",
       "4           7.0      102.0             0.0  ...     17.0     2022.0   \n",
       "\n",
       "   MONTH RPTD  DAY RPTD  Adult Arrest  Adult Other  Invest Cont  Juv Arrest  \\\n",
       "0         3.0       1.0           1.0          0.0          0.0         0.0   \n",
       "1         2.0       9.0           0.0          0.0          1.0         0.0   \n",
       "2        11.0      11.0           0.0          0.0          1.0         0.0   \n",
       "3         5.0      10.0           0.0          0.0          1.0         0.0   \n",
       "4         8.0      18.0           0.0          0.0          1.0         0.0   \n",
       "\n",
       "   Juv Other  UNK  \n",
       "0        0.0  0.0  \n",
       "1        0.0  0.0  \n",
       "2        0.0  0.0  \n",
       "3        0.0  0.0  \n",
       "4        0.0  0.0  \n",
       "\n",
       "[5 rows x 28 columns]"
      ]
     },
     "metadata": {},
     "output_type": "display_data"
    }
   ],
   "source": [
    "display(df.info())\n",
    "display(df.head())"
   ]
  },
  {
   "cell_type": "markdown",
   "id": "6c32a6dc",
   "metadata": {},
   "source": [
    "# normalize the data"
   ]
  },
  {
   "cell_type": "code",
   "execution_count": 23,
   "id": "68016fc3",
   "metadata": {},
   "outputs": [],
   "source": [
    "scaler = StandardScaler()\n",
    "df[df.columns] = scaler.fit_transform(df[df.columns])"
   ]
  },
  {
   "cell_type": "markdown",
   "id": "ec3b9d10",
   "metadata": {},
   "source": [
    "# display the head and info of the data"
   ]
  },
  {
   "cell_type": "code",
   "execution_count": 24,
   "id": "96aa9bd7",
   "metadata": {},
   "outputs": [
    {
     "name": "stdout",
     "output_type": "stream",
     "text": [
      "<class 'pandas.core.frame.DataFrame'>\n",
      "RangeIndex: 710090 entries, 0 to 710089\n",
      "Data columns (total 28 columns):\n",
      " #   Column          Non-Null Count   Dtype  \n",
      "---  ------          --------------   -----  \n",
      " 0   TIME OCC        710090 non-null  float64\n",
      " 1   AREA            710090 non-null  float64\n",
      " 2   Rpt Dist No     710090 non-null  float64\n",
      " 3   Part 1-2        710090 non-null  float64\n",
      " 4   Crm Cd          710090 non-null  float64\n",
      " 5   Vict Age        710090 non-null  float64\n",
      " 6   Vict Sex        710090 non-null  float64\n",
      " 7   Vict Descent    710090 non-null  float64\n",
      " 8   Premis Cd       710090 non-null  float64\n",
      " 9   Weapon Used Cd  710090 non-null  float64\n",
      " 10  Crm Cd 1        710090 non-null  float64\n",
      " 11  Crm Cd 2        710090 non-null  float64\n",
      " 12  Crm Cd 3        710090 non-null  float64\n",
      " 13  Crm Cd 4        710090 non-null  float64\n",
      " 14  LOCATION        710090 non-null  float64\n",
      " 15  Cross Street    710090 non-null  float64\n",
      " 16  YEAR OCC        710090 non-null  float64\n",
      " 17  MONTH OCC       710090 non-null  float64\n",
      " 18  DAY OCC         710090 non-null  float64\n",
      " 19  YEAR RPTD       710090 non-null  float64\n",
      " 20  MONTH RPTD      710090 non-null  float64\n",
      " 21  DAY RPTD        710090 non-null  float64\n",
      " 22  Adult Arrest    710090 non-null  float64\n",
      " 23  Adult Other     710090 non-null  float64\n",
      " 24  Invest Cont     710090 non-null  float64\n",
      " 25  Juv Arrest      710090 non-null  float64\n",
      " 26  Juv Other       710090 non-null  float64\n",
      " 27  UNK             710090 non-null  float64\n",
      "dtypes: float64(28)\n",
      "memory usage: 151.7 MB\n"
     ]
    },
    {
     "data": {
      "text/plain": [
       "None"
      ]
     },
     "metadata": {},
     "output_type": "display_data"
    },
    {
     "data": {
      "text/html": [
       "<div>\n",
       "<style scoped>\n",
       "    .dataframe tbody tr th:only-of-type {\n",
       "        vertical-align: middle;\n",
       "    }\n",
       "\n",
       "    .dataframe tbody tr th {\n",
       "        vertical-align: top;\n",
       "    }\n",
       "\n",
       "    .dataframe thead th {\n",
       "        text-align: right;\n",
       "    }\n",
       "</style>\n",
       "<table border=\"1\" class=\"dataframe\">\n",
       "  <thead>\n",
       "    <tr style=\"text-align: right;\">\n",
       "      <th></th>\n",
       "      <th>TIME OCC</th>\n",
       "      <th>AREA</th>\n",
       "      <th>Rpt Dist No</th>\n",
       "      <th>Part 1-2</th>\n",
       "      <th>Crm Cd</th>\n",
       "      <th>Vict Age</th>\n",
       "      <th>Vict Sex</th>\n",
       "      <th>Vict Descent</th>\n",
       "      <th>Premis Cd</th>\n",
       "      <th>Weapon Used Cd</th>\n",
       "      <th>...</th>\n",
       "      <th>DAY OCC</th>\n",
       "      <th>YEAR RPTD</th>\n",
       "      <th>MONTH RPTD</th>\n",
       "      <th>DAY RPTD</th>\n",
       "      <th>Adult Arrest</th>\n",
       "      <th>Adult Other</th>\n",
       "      <th>Invest Cont</th>\n",
       "      <th>Juv Arrest</th>\n",
       "      <th>Juv Other</th>\n",
       "      <th>UNK</th>\n",
       "    </tr>\n",
       "  </thead>\n",
       "  <tbody>\n",
       "    <tr>\n",
       "      <th>0</th>\n",
       "      <td>1.239951</td>\n",
       "      <td>-0.596604</td>\n",
       "      <td>-0.535130</td>\n",
       "      <td>-0.948521</td>\n",
       "      <td>0.039390</td>\n",
       "      <td>-1.730151</td>\n",
       "      <td>0.669496</td>\n",
       "      <td>0.322063</td>\n",
       "      <td>-1.077201</td>\n",
       "      <td>-0.745585</td>\n",
       "      <td>...</td>\n",
       "      <td>-1.592666</td>\n",
       "      <td>-1.376571</td>\n",
       "      <td>-1.024059</td>\n",
       "      <td>-1.647819</td>\n",
       "      <td>3.081694</td>\n",
       "      <td>-0.374523</td>\n",
       "      <td>-1.861200</td>\n",
       "      <td>-0.060258</td>\n",
       "      <td>-0.045948</td>\n",
       "      <td>-0.002654</td>\n",
       "    </tr>\n",
       "    <tr>\n",
       "      <th>1</th>\n",
       "      <td>0.734500</td>\n",
       "      <td>-1.577536</td>\n",
       "      <td>-1.519459</td>\n",
       "      <td>-0.948521</td>\n",
       "      <td>-0.770294</td>\n",
       "      <td>0.642735</td>\n",
       "      <td>0.669496</td>\n",
       "      <td>0.322063</td>\n",
       "      <td>-0.952161</td>\n",
       "      <td>-0.745585</td>\n",
       "      <td>...</td>\n",
       "      <td>-0.813416</td>\n",
       "      <td>-1.376571</td>\n",
       "      <td>-1.314926</td>\n",
       "      <td>-0.742875</td>\n",
       "      <td>-0.324497</td>\n",
       "      <td>-0.374523</td>\n",
       "      <td>0.537288</td>\n",
       "      <td>-0.060258</td>\n",
       "      <td>-0.045948</td>\n",
       "      <td>-0.002654</td>\n",
       "    </tr>\n",
       "    <tr>\n",
       "      <th>2</th>\n",
       "      <td>0.581334</td>\n",
       "      <td>-1.250559</td>\n",
       "      <td>-1.234952</td>\n",
       "      <td>-0.948521</td>\n",
       "      <td>-0.095557</td>\n",
       "      <td>-0.770899</td>\n",
       "      <td>1.567550</td>\n",
       "      <td>1.333833</td>\n",
       "      <td>0.779873</td>\n",
       "      <td>-0.745585</td>\n",
       "      <td>...</td>\n",
       "      <td>-1.258702</td>\n",
       "      <td>-1.376571</td>\n",
       "      <td>1.302878</td>\n",
       "      <td>-0.516639</td>\n",
       "      <td>-0.324497</td>\n",
       "      <td>-0.374523</td>\n",
       "      <td>0.537288</td>\n",
       "      <td>-0.060258</td>\n",
       "      <td>-0.045948</td>\n",
       "      <td>-0.002654</td>\n",
       "    </tr>\n",
       "    <tr>\n",
       "      <th>3</th>\n",
       "      <td>1.097505</td>\n",
       "      <td>-0.269627</td>\n",
       "      <td>-0.240812</td>\n",
       "      <td>-0.948521</td>\n",
       "      <td>-0.711817</td>\n",
       "      <td>-0.770899</td>\n",
       "      <td>0.669496</td>\n",
       "      <td>0.322063</td>\n",
       "      <td>0.330656</td>\n",
       "      <td>-0.745585</td>\n",
       "      <td>...</td>\n",
       "      <td>-0.590774</td>\n",
       "      <td>1.374355</td>\n",
       "      <td>-0.442325</td>\n",
       "      <td>-0.629757</td>\n",
       "      <td>-0.324497</td>\n",
       "      <td>-0.374523</td>\n",
       "      <td>0.537288</td>\n",
       "      <td>-0.060258</td>\n",
       "      <td>-0.045948</td>\n",
       "      <td>-0.002654</td>\n",
       "    </tr>\n",
       "    <tr>\n",
       "      <th>4</th>\n",
       "      <td>-0.184500</td>\n",
       "      <td>-0.760093</td>\n",
       "      <td>-0.728071</td>\n",
       "      <td>1.054272</td>\n",
       "      <td>-0.662336</td>\n",
       "      <td>-0.316516</td>\n",
       "      <td>0.669496</td>\n",
       "      <td>-0.521079</td>\n",
       "      <td>-1.072570</td>\n",
       "      <td>-0.745585</td>\n",
       "      <td>...</td>\n",
       "      <td>0.188475</td>\n",
       "      <td>0.457380</td>\n",
       "      <td>0.430277</td>\n",
       "      <td>0.275186</td>\n",
       "      <td>-0.324497</td>\n",
       "      <td>-0.374523</td>\n",
       "      <td>0.537288</td>\n",
       "      <td>-0.060258</td>\n",
       "      <td>-0.045948</td>\n",
       "      <td>-0.002654</td>\n",
       "    </tr>\n",
       "  </tbody>\n",
       "</table>\n",
       "<p>5 rows × 28 columns</p>\n",
       "</div>"
      ],
      "text/plain": [
       "   TIME OCC      AREA  Rpt Dist No  Part 1-2    Crm Cd  Vict Age  Vict Sex  \\\n",
       "0  1.239951 -0.596604    -0.535130 -0.948521  0.039390 -1.730151  0.669496   \n",
       "1  0.734500 -1.577536    -1.519459 -0.948521 -0.770294  0.642735  0.669496   \n",
       "2  0.581334 -1.250559    -1.234952 -0.948521 -0.095557 -0.770899  1.567550   \n",
       "3  1.097505 -0.269627    -0.240812 -0.948521 -0.711817 -0.770899  0.669496   \n",
       "4 -0.184500 -0.760093    -0.728071  1.054272 -0.662336 -0.316516  0.669496   \n",
       "\n",
       "   Vict Descent  Premis Cd  Weapon Used Cd  ...   DAY OCC  YEAR RPTD  \\\n",
       "0      0.322063  -1.077201       -0.745585  ... -1.592666  -1.376571   \n",
       "1      0.322063  -0.952161       -0.745585  ... -0.813416  -1.376571   \n",
       "2      1.333833   0.779873       -0.745585  ... -1.258702  -1.376571   \n",
       "3      0.322063   0.330656       -0.745585  ... -0.590774   1.374355   \n",
       "4     -0.521079  -1.072570       -0.745585  ...  0.188475   0.457380   \n",
       "\n",
       "   MONTH RPTD  DAY RPTD  Adult Arrest  Adult Other  Invest Cont  Juv Arrest  \\\n",
       "0   -1.024059 -1.647819      3.081694    -0.374523    -1.861200   -0.060258   \n",
       "1   -1.314926 -0.742875     -0.324497    -0.374523     0.537288   -0.060258   \n",
       "2    1.302878 -0.516639     -0.324497    -0.374523     0.537288   -0.060258   \n",
       "3   -0.442325 -0.629757     -0.324497    -0.374523     0.537288   -0.060258   \n",
       "4    0.430277  0.275186     -0.324497    -0.374523     0.537288   -0.060258   \n",
       "\n",
       "   Juv Other       UNK  \n",
       "0  -0.045948 -0.002654  \n",
       "1  -0.045948 -0.002654  \n",
       "2  -0.045948 -0.002654  \n",
       "3  -0.045948 -0.002654  \n",
       "4  -0.045948 -0.002654  \n",
       "\n",
       "[5 rows x 28 columns]"
      ]
     },
     "metadata": {},
     "output_type": "display_data"
    }
   ],
   "source": [
    "display(df.info())\n",
    "display(df.head())"
   ]
  },
  {
   "cell_type": "markdown",
   "id": "9e371c2d",
   "metadata": {},
   "source": [
    "# train data with 5 different classification models\n",
    "\n",
    "- KNeighborsClassifier\n",
    "- DecisionTreeClassifier\n",
    "- RandomForestClassifier\n",
    "- AdaBoostClassifier\n",
    "- Naive Bayes\n",
    "\n",
    "I will save the accuracy and the time it took to train the model for each\n",
    "model in a dictionary."
   ]
  },
  {
   "cell_type": "markdown",
   "id": "1d206677",
   "metadata": {},
   "source": [
    "# split the data to X and y"
   ]
  },
  {
   "cell_type": "code",
   "execution_count": 25,
   "id": "0d8b2104",
   "metadata": {},
   "outputs": [],
   "source": [
    "X = df.drop(columns=['Company response to consumer'])\n",
    "y = df['Company response to consumer'].astype(int)  # Ensure y is categorical\n",
    "\n",
    "X_train, X_test, y_train, y_test = train_test_split(\n",
    "    X, y, test_size=0.2, random_state=42)"
   ]
  },
  {
   "cell_type": "markdown",
   "id": "9307ea00",
   "metadata": {},
   "source": [
    "# KNeighborsClassifier"
   ]
  },
  {
   "cell_type": "code",
   "execution_count": 26,
   "id": "3fd09969",
   "metadata": {},
   "outputs": [],
   "source": [
    "knn = KNeighborsClassifier()\n",
    "start_time = time.time()\n",
    "knn.fit(X_train, y_train)\n",
    "knn_pred = knn.predict(X_test)\n",
    "end_time = time.time()\n",
    "knn_accuracy = accuracy_score(y_test, knn_pred)\n",
    "\n",
    "# display(f\"KNeighborsClassifier Accuracy: {knn_accuracy}\")\n",
    "# display(f\"Training Time: {end_time - start_time} seconds\")\n",
    "\n",
    "models_info_dict = {}\n",
    "\n",
    "models_info_dict['KNeighborsClassifier'] = {\n",
    "    'accuracy': knn_accuracy, 'time': end_time - start_time\n",
    "}"
   ]
  },
  {
   "cell_type": "markdown",
   "id": "43c45ceb",
   "metadata": {},
   "source": [
    "# DecisionTreeClassifier"
   ]
  },
  {
   "cell_type": "code",
   "execution_count": 27,
   "id": "18657252",
   "metadata": {},
   "outputs": [],
   "source": [
    "dt = DecisionTreeClassifier()\n",
    "start_time = time.time()\n",
    "dt.fit(X_train, y_train)\n",
    "dt_pred = dt.predict(X_test)\n",
    "end_time = time.time()\n",
    "dt_accuracy = accuracy_score(y_test, dt_pred)\n",
    "\n",
    "# display(f\"DecisionTreeClassifier Accuracy: {dt_accuracy}\")\n",
    "# display(f\"Training Time: {end_time - start_time} seconds\")\n",
    "\n",
    "models_info_dict['DecisionTreeClassifier'] = {\n",
    "    'accuracy': dt_accuracy, 'time': end_time - start_time\n",
    "}"
   ]
  },
  {
   "cell_type": "markdown",
   "id": "a58b8c4c",
   "metadata": {},
   "source": [
    "# RandomForestClassifier"
   ]
  },
  {
   "cell_type": "code",
   "execution_count": 28,
   "id": "3437c0c9",
   "metadata": {},
   "outputs": [],
   "source": [
    "rf = RandomForestClassifier()\n",
    "start_time = time.time()\n",
    "rf.fit(X_train, y_train)\n",
    "rf_pred = rf.predict(X_test)\n",
    "end_time = time.time()\n",
    "rf_accuracy = accuracy_score(y_test, rf_pred)\n",
    "\n",
    "# display(f\"RandomForestClassifier Accuracy: {rf_accuracy}\")\n",
    "# display(f\"Training Time: {end_time - start_time} seconds\")\n",
    "\n",
    "models_info_dict['RandomForestClassifier'] = {\n",
    "    'accuracy': rf_accuracy, 'time': end_time - start_time\n",
    "}"
   ]
  },
  {
   "cell_type": "markdown",
   "id": "69031268",
   "metadata": {},
   "source": [
    "# AdaBoostClassifier"
   ]
  },
  {
   "cell_type": "code",
   "execution_count": 29,
   "id": "8e843d10",
   "metadata": {},
   "outputs": [
    {
     "name": "stderr",
     "output_type": "stream",
     "text": [
      "/usr/lib/python3.12/site-packages/sklearn/ensemble/_weight_boosting.py:527: FutureWarning: The SAMME.R algorithm (the default) is deprecated and will be removed in 1.6. Use the SAMME algorithm to circumvent this warning.\n",
      "  warnings.warn(\n"
     ]
    }
   ],
   "source": [
    "ada = AdaBoostClassifier()\n",
    "start_time = time.time()\n",
    "ada.fit(X_train, y_train)\n",
    "ada_pred = ada.predict(X_test)\n",
    "end_time = time.time()\n",
    "ada_accuracy = accuracy_score(y_test, ada_pred)\n",
    "\n",
    "# display(f\"AdaBoostClassifier Accuracy: {ada_accuracy}\")\n",
    "# display(f\"Training Time: {end_time - start_time} seconds\")\n",
    "\n",
    "models_info_dict['AdaBoostClassifier'] = {\n",
    "    'accuracy': ada_accuracy, 'time': end_time - start_time\n",
    "}"
   ]
  },
  {
   "cell_type": "markdown",
   "id": "f3cfe6a9",
   "metadata": {},
   "source": [
    "# Naive Bayes"
   ]
  },
  {
   "cell_type": "code",
   "execution_count": 30,
   "id": "eecaae8e",
   "metadata": {},
   "outputs": [
    {
     "data": {
      "text/plain": [
       "'Naive Bayes Accuracy: 0.7827247250348547'"
      ]
     },
     "metadata": {},
     "output_type": "display_data"
    },
    {
     "data": {
      "text/plain": [
       "'Training Time: 7.711880922317505 seconds'"
      ]
     },
     "metadata": {},
     "output_type": "display_data"
    }
   ],
   "source": [
    "nb = LogisticRegression()\n",
    "start_time = time.time()\n",
    "nb.fit(X_train, y_train)\n",
    "nb_pred = nb.predict(X_test)\n",
    "end_time = time.time()\n",
    "nb_accuracy = accuracy_score(y_test, nb_pred)\n",
    "\n",
    "display(f\"Naive Bayes Accuracy: {nb_accuracy}\")\n",
    "display(f\"Training Time: {end_time - start_time} seconds\")\n",
    "\n",
    "models_info_dict['Naive Bayes'] = {\n",
    "    'accuracy': nb_accuracy, 'time': end_time - start_time\n",
    "}"
   ]
  },
  {
   "cell_type": "markdown",
   "id": "2d127b2b",
   "metadata": {},
   "source": [
    "# display the models info"
   ]
  },
  {
   "cell_type": "code",
   "execution_count": 31,
   "id": "bf1d3080",
   "metadata": {},
   "outputs": [
    {
     "data": {
      "text/plain": [
       "'With random split we reached the following results:'"
      ]
     },
     "metadata": {},
     "output_type": "display_data"
    },
    {
     "data": {
      "text/plain": [
       "{'KNeighborsClassifier': {'accuracy': 0.8019546818008985,\n",
       "  'time': 100.21694040298462},\n",
       " 'DecisionTreeClassifier': {'accuracy': 0.8351546987001648,\n",
       "  'time': 8.404108762741089},\n",
       " 'RandomForestClassifier': {'accuracy': 0.8937529045613937,\n",
       "  'time': 147.95581793785095},\n",
       " 'AdaBoostClassifier': {'accuracy': 0.686574941204636,\n",
       "  'time': 44.28265070915222},\n",
       " 'Naive Bayes': {'accuracy': 0.7827247250348547, 'time': 7.711880922317505}}"
      ]
     },
     "metadata": {},
     "output_type": "display_data"
    }
   ],
   "source": [
    "display(\"With random split we reached the following results:\")\n",
    "display(models_info_dict)"
   ]
  },
  {
   "cell_type": "markdown",
   "id": "f12a14f0",
   "metadata": {},
   "source": [
    "# 5-fold approach to measure the performance of the system"
   ]
  },
  {
   "cell_type": "code",
   "execution_count": 32,
   "id": "4e0892ff",
   "metadata": {},
   "outputs": [
    {
     "name": "stderr",
     "output_type": "stream",
     "text": [
      "/usr/lib/python3.12/site-packages/sklearn/ensemble/_weight_boosting.py:527: FutureWarning: The SAMME.R algorithm (the default) is deprecated and will be removed in 1.6. Use the SAMME algorithm to circumvent this warning.\n",
      "  warnings.warn(\n",
      "/usr/lib/python3.12/site-packages/sklearn/ensemble/_weight_boosting.py:527: FutureWarning: The SAMME.R algorithm (the default) is deprecated and will be removed in 1.6. Use the SAMME algorithm to circumvent this warning.\n",
      "  warnings.warn(\n",
      "/usr/lib/python3.12/site-packages/sklearn/ensemble/_weight_boosting.py:527: FutureWarning: The SAMME.R algorithm (the default) is deprecated and will be removed in 1.6. Use the SAMME algorithm to circumvent this warning.\n",
      "  warnings.warn(\n",
      "/usr/lib/python3.12/site-packages/sklearn/ensemble/_weight_boosting.py:527: FutureWarning: The SAMME.R algorithm (the default) is deprecated and will be removed in 1.6. Use the SAMME algorithm to circumvent this warning.\n",
      "  warnings.warn(\n",
      "/usr/lib/python3.12/site-packages/sklearn/ensemble/_weight_boosting.py:527: FutureWarning: The SAMME.R algorithm (the default) is deprecated and will be removed in 1.6. Use the SAMME algorithm to circumvent this warning.\n",
      "  warnings.warn(\n"
     ]
    },
    {
     "data": {
      "text/plain": [
       "'With 5-fold approach we reached the following results:'"
      ]
     },
     "metadata": {},
     "output_type": "display_data"
    },
    {
     "data": {
      "text/plain": [
       "{'KNeighborsClassifier': {'accuracy': 0.799645115407906,\n",
       "  'time': 521.1111586093903},\n",
       " 'DecisionTreeClassifier': {'accuracy': 0.8266036699573294,\n",
       "  'time': 39.95061659812927},\n",
       " 'RandomForestClassifier': {'accuracy': 0.8903378444985848,\n",
       "  'time': 726.5054469108582},\n",
       " 'AdaBoostClassifier': {'accuracy': 0.6853117210494444,\n",
       "  'time': 210.71078276634216},\n",
       " 'Naive Bayes': {'accuracy': 0.7797589038009267, 'time': 35.28852081298828}}"
      ]
     },
     "metadata": {},
     "output_type": "display_data"
    }
   ],
   "source": [
    "# KFold\n",
    "models_info_dict = {}\n",
    "\n",
    "kf = KFold(n_splits=5)\n",
    "knn = KNeighborsClassifier()\n",
    "dt = DecisionTreeClassifier()\n",
    "rf = RandomForestClassifier()\n",
    "ada = AdaBoostClassifier()\n",
    "nb = LogisticRegression()\n",
    "\n",
    "t1 = time.time()\n",
    "knn_scores = cross_val_score(knn, X, y, cv=kf)\n",
    "t2 = time.time()\n",
    "dt_scores = cross_val_score(dt, X, y, cv=kf)\n",
    "t3 = time.time()\n",
    "rf_scores = cross_val_score(rf, X, y, cv=kf)\n",
    "t4 = time.time()\n",
    "ada_scores = cross_val_score(ada, X, y, cv=kf)\n",
    "t5 = time.time()\n",
    "nb_scores = cross_val_score(nb, X, y, cv=kf)\n",
    "t6 = time.time()\n",
    "\n",
    "display(\"With 5-fold approach we reached the following results:\")\n",
    "\n",
    "models_info_dict['KNeighborsClassifier'] = {\n",
    "    'accuracy': knn_scores.mean(), 'time': t2 - t1\n",
    "}\n",
    "models_info_dict['DecisionTreeClassifier'] = {\n",
    "    'accuracy': dt_scores.mean(), 'time': t3 - t2\n",
    "}\n",
    "models_info_dict['RandomForestClassifier'] = {\n",
    "    'accuracy': rf_scores.mean(), 'time': t4 - t3\n",
    "}\n",
    "models_info_dict['AdaBoostClassifier'] = {\n",
    "    'accuracy': ada_scores.mean(), 'time': t5 - t4\n",
    "}\n",
    "models_info_dict['Naive Bayes'] = {\n",
    "    'accuracy': nb_scores.mean(), 'time': t6 - t5\n",
    "}\n",
    "\n",
    "display(models_info_dict)"
   ]
  },
  {
   "cell_type": "markdown",
   "id": "75908706",
   "metadata": {},
   "source": [
    "# 10 best features from the dataset"
   ]
  },
  {
   "cell_type": "code",
   "execution_count": 33,
   "id": "bd347be0",
   "metadata": {},
   "outputs": [
    {
     "data": {
      "text/plain": [
       "'10 best features from the dataset:'"
      ]
     },
     "metadata": {},
     "output_type": "display_data"
    },
    {
     "data": {
      "text/plain": [
       "Index(['Part 1-2', 'Vict Age', 'Vict Sex', 'Vict Descent', 'Premis Cd',\n",
       "       'Weapon Used Cd', 'Crm Cd 2', 'Crm Cd 3', 'LOCATION', 'Cross Street'],\n",
       "      dtype='object')"
      ]
     },
     "metadata": {},
     "output_type": "display_data"
    },
    {
     "data": {
      "text/html": [
       "<div>\n",
       "<style scoped>\n",
       "    .dataframe tbody tr th:only-of-type {\n",
       "        vertical-align: middle;\n",
       "    }\n",
       "\n",
       "    .dataframe tbody tr th {\n",
       "        vertical-align: top;\n",
       "    }\n",
       "\n",
       "    .dataframe thead th {\n",
       "        text-align: right;\n",
       "    }\n",
       "</style>\n",
       "<table border=\"1\" class=\"dataframe\">\n",
       "  <thead>\n",
       "    <tr style=\"text-align: right;\">\n",
       "      <th></th>\n",
       "      <th>Feature</th>\n",
       "      <th>Score</th>\n",
       "    </tr>\n",
       "  </thead>\n",
       "  <tbody>\n",
       "    <tr>\n",
       "      <th>3</th>\n",
       "      <td>Part 1-2</td>\n",
       "      <td>107798.816236</td>\n",
       "    </tr>\n",
       "    <tr>\n",
       "      <th>8</th>\n",
       "      <td>Weapon Used Cd</td>\n",
       "      <td>23854.820186</td>\n",
       "    </tr>\n",
       "    <tr>\n",
       "      <th>10</th>\n",
       "      <td>Crm Cd 2</td>\n",
       "      <td>11177.625982</td>\n",
       "    </tr>\n",
       "    <tr>\n",
       "      <th>14</th>\n",
       "      <td>Cross Street</td>\n",
       "      <td>8777.316598</td>\n",
       "    </tr>\n",
       "    <tr>\n",
       "      <th>7</th>\n",
       "      <td>Premis Cd</td>\n",
       "      <td>5616.897241</td>\n",
       "    </tr>\n",
       "    <tr>\n",
       "      <th>6</th>\n",
       "      <td>Vict Descent</td>\n",
       "      <td>4225.368110</td>\n",
       "    </tr>\n",
       "    <tr>\n",
       "      <th>13</th>\n",
       "      <td>LOCATION</td>\n",
       "      <td>2937.982336</td>\n",
       "    </tr>\n",
       "    <tr>\n",
       "      <th>4</th>\n",
       "      <td>Vict Age</td>\n",
       "      <td>889.026909</td>\n",
       "    </tr>\n",
       "    <tr>\n",
       "      <th>11</th>\n",
       "      <td>Crm Cd 3</td>\n",
       "      <td>836.662647</td>\n",
       "    </tr>\n",
       "    <tr>\n",
       "      <th>5</th>\n",
       "      <td>Vict Sex</td>\n",
       "      <td>479.789881</td>\n",
       "    </tr>\n",
       "  </tbody>\n",
       "</table>\n",
       "</div>"
      ],
      "text/plain": [
       "           Feature          Score\n",
       "3         Part 1-2  107798.816236\n",
       "8   Weapon Used Cd   23854.820186\n",
       "10        Crm Cd 2   11177.625982\n",
       "14    Cross Street    8777.316598\n",
       "7        Premis Cd    5616.897241\n",
       "6     Vict Descent    4225.368110\n",
       "13        LOCATION    2937.982336\n",
       "4         Vict Age     889.026909\n",
       "11        Crm Cd 3     836.662647\n",
       "5         Vict Sex     479.789881"
      ]
     },
     "metadata": {},
     "output_type": "display_data"
    }
   ],
   "source": [
    "best_features = SelectKBest(score_func=f_classif, k=10)\n",
    "fit = best_features.fit(X, y)\n",
    "display(\"10 best features from the dataset:\", X.columns[fit.get_support()])\n",
    "df_scores = pd.DataFrame(fit.scores_)\n",
    "df_columns = pd.DataFrame(X.columns)\n",
    "feature_scores = pd.concat([df_columns, df_scores], axis=1)\n",
    "feature_scores.columns = ['Feature', 'Score']\n",
    "display(feature_scores.nlargest(10, 'Score'))"
   ]
  }
 ],
 "metadata": {
  "kernelspec": {
   "display_name": "Python 3 (ipykernel)",
   "language": "python",
   "name": "python3"
  },
  "language_info": {
   "codemirror_mode": {
    "name": "ipython",
    "version": 3
   },
   "file_extension": ".py",
   "mimetype": "text/x-python",
   "name": "python",
   "nbconvert_exporter": "python",
   "pygments_lexer": "ipython3",
   "version": "3.12.3"
  }
 },
 "nbformat": 4,
 "nbformat_minor": 5
}
