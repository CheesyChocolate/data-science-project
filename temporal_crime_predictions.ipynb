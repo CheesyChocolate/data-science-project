{
 "cells": [
  {
   "cell_type": "markdown",
   "id": "3371928d",
   "metadata": {},
   "source": [
    "# Crime Data from 2020 to Present in Los Angeles\n",
    "\n",
    "https://catalog.data.gov/dataset/crime-data-from-2020-to-present\n",
    "\n",
    "# Predicting Crime Type\n",
    "\n",
    "Predicting the type of crime based on the location, date, and etc."
   ]
  },
  {
   "cell_type": "markdown",
   "id": "ef33b027",
   "metadata": {},
   "source": [
    "# import libraries"
   ]
  },
  {
   "cell_type": "code",
   "execution_count": null,
   "id": "8fcbf079",
   "metadata": {},
   "outputs": [],
   "source": [
    "from sklearn.preprocessing import LabelEncoder, OneHotEncoder\n",
    "import numpy as np\n",
    "from sklearn.impute import SimpleImputer\n",
    "import pandas as pd\n",
    "from IPython.display import display"
   ]
  },
  {
   "cell_type": "markdown",
   "id": "21233b9e",
   "metadata": {},
   "source": [
    "# print head of the data"
   ]
  },
  {
   "cell_type": "code",
   "execution_count": null,
   "id": "ed68dee5",
   "metadata": {},
   "outputs": [],
   "source": [
    "df = pd.read_csv('dataset.csv')"
   ]
  },
  {
   "cell_type": "markdown",
   "id": "7a7bc2c1",
   "metadata": {},
   "source": [
    "# print info of the data"
   ]
  },
  {
   "cell_type": "code",
   "execution_count": null,
   "id": "fd1c43f9",
   "metadata": {},
   "outputs": [],
   "source": [
    "display(df.info())\n",
    "display(df.head())"
   ]
  },
  {
   "cell_type": "markdown",
   "id": "0922e5d5",
   "metadata": {},
   "source": [
    "# remove the duplicate features\n",
    "\n",
    "some of the rows gives the same information as the other rows but in a\n",
    "different format. I wail remove the rows that in object format and keep the\n",
    "rows that are in numerical format."
   ]
  },
  {
   "cell_type": "code",
   "execution_count": null,
   "id": "15570ce8",
   "metadata": {},
   "outputs": [],
   "source": [
    "df = df.drop(columns=['DR_NO',\n",
    "                      'AREA NAME',\n",
    "                      'Crm Cd Desc',\n",
    "                      'Premis Cd',\n",
    "                      'Weapon Desc',\n",
    "                      'Status Desc',\n",
    "                      'LAT',\n",
    "                      'LON'])"
   ]
  },
  {
   "cell_type": "markdown",
   "id": "dd219e68",
   "metadata": {},
   "source": [
    "# how many records does the data have?"
   ]
  },
  {
   "cell_type": "code",
   "execution_count": null,
   "id": "8a90b46d",
   "metadata": {},
   "outputs": [],
   "source": [
    "display(\"Number of records: \", df.shape[0])"
   ]
  },
  {
   "cell_type": "markdown",
   "id": "aadfaf30",
   "metadata": {},
   "source": [
    "# how many features does the data have?\n",
    "\n",
    "In my project, I will consider all the features except the 'Crm Cd' as the\n",
    "features."
   ]
  },
  {
   "cell_type": "code",
   "execution_count": null,
   "id": "87f21dc2",
   "metadata": {},
   "outputs": [],
   "source": [
    "display(\"Number of features: \", df.shape[1] - 1)"
   ]
  },
  {
   "cell_type": "markdown",
   "id": "18d2bcfe",
   "metadata": {},
   "source": [
    "# How many many different classes exist in the dataset?"
   ]
  },
  {
   "cell_type": "code",
   "execution_count": null,
   "id": "774deedb",
   "metadata": {},
   "outputs": [],
   "source": [
    "display(\"Number of classes: \", len(df['Crm Cd'].unique()))\n",
    "display(\"Number of examples per class:\\n\", df['Crm Cd'].value_counts())"
   ]
  },
  {
   "cell_type": "markdown",
   "id": "207d1f3c",
   "metadata": {},
   "source": [
    "# show how many NULL values exist in the dataset"
   ]
  },
  {
   "cell_type": "code",
   "execution_count": null,
   "id": "547085ad",
   "metadata": {},
   "outputs": [],
   "source": [
    "display(\"Number of NULL values per feature:\\n\", df.isnull().sum())"
   ]
  },
  {
   "cell_type": "markdown",
   "id": "0cc489cf",
   "metadata": {},
   "source": [
    "# Which featiures are not numerical?"
   ]
  },
  {
   "cell_type": "code",
   "execution_count": null,
   "id": "f7d95bbc",
   "metadata": {},
   "outputs": [],
   "source": [
    "display(\"Non numerical features:\\n\", df.select_dtypes(exclude=[np.number]).columns)"
   ]
  }
 ],
 "metadata": {
  "kernelspec": {
   "display_name": "Python 3 (ipykernel)",
   "language": "python",
   "name": "python3"
  },
  "language_info": {
   "codemirror_mode": {
    "name": "ipython",
    "version": 3
   },
   "file_extension": ".py",
   "mimetype": "text/x-python",
   "name": "python",
   "nbconvert_exporter": "python",
   "pygments_lexer": "ipython3",
   "version": "3.11.8"
  }
 },
 "nbformat": 4,
 "nbformat_minor": 5
}
