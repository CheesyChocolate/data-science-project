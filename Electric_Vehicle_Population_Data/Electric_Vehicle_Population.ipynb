{
 "cells": [
  {
   "cell_type": "markdown",
   "id": "3371928d",
   "metadata": {},
   "source": [
    "# Electric Vehicle Population\n",
    "\n",
    "https://catalog.data.gov/dataset/electric-vehicle-population-data\n",
    "\n",
    "# predict the `Electric Vehicle Type` based on the rest of the features"
   ]
  },
  {
   "cell_type": "markdown",
   "id": "ef33b027",
   "metadata": {},
   "source": [
    "# import libraries"
   ]
  },
  {
   "cell_type": "code",
   "execution_count": 1,
   "id": "8fcbf079",
   "metadata": {},
   "outputs": [],
   "source": [
    "import time\n",
    "from IPython.display import display\n",
    "from sklearn.ensemble import RandomForestClassifier\n",
    "from sklearn.feature_selection import SelectKBest\n",
    "from sklearn.feature_selection import f_classif\n",
    "from sklearn.impute import SimpleImputer\n",
    "from sklearn.linear_model import LogisticRegression\n",
    "from sklearn.metrics import accuracy_score\n",
    "from sklearn.model_selection import KFold\n",
    "from sklearn.model_selection import cross_val_score\n",
    "from sklearn.model_selection import train_test_split\n",
    "from sklearn.neighbors import KNeighborsClassifier\n",
    "from sklearn.preprocessing import LabelEncoder, OneHotEncoder\n",
    "from sklearn.preprocessing import StandardScaler\n",
    "from sklearn.tree import DecisionTreeClassifier\n",
    "from sklearn.ensemble import AdaBoostClassifier\n",
    "import numpy as np\n",
    "import pandas as pd\n",
    "from ydata_profiling import ProfileReport\n",
    "\n",
    "\n",
    "# pd.options.display.max_columns = None"
   ]
  },
  {
   "cell_type": "markdown",
   "id": "21233b9e",
   "metadata": {},
   "source": [
    "# print head of the data"
   ]
  },
  {
   "cell_type": "code",
   "execution_count": 2,
   "id": "ed68dee5",
   "metadata": {},
   "outputs": [],
   "source": [
    "df = pd.read_csv('dataset.csv')"
   ]
  },
  {
   "cell_type": "markdown",
   "id": "d7abebaf",
   "metadata": {},
   "source": [
    "# Generate a report of the data"
   ]
  },
  {
   "cell_type": "code",
   "execution_count": null,
   "id": "09a9c4ac",
   "metadata": {},
   "outputs": [],
   "source": [
    "profile = ProfileReport(df, title='Pandas Profiling Report', explorative=True)\n",
    "profile.to_notebook_iframe()"
   ]
  },
  {
   "cell_type": "markdown",
   "id": "7a7bc2c1",
   "metadata": {},
   "source": [
    "# print info of the data"
   ]
  },
  {
   "cell_type": "code",
   "execution_count": 3,
   "id": "fd1c43f9",
   "metadata": {},
   "outputs": [
    {
     "name": "stdout",
     "output_type": "stream",
     "text": [
      "<class 'pandas.core.frame.DataFrame'>\n",
      "RangeIndex: 186879 entries, 0 to 186878\n",
      "Data columns (total 17 columns):\n",
      " #   Column                                             Non-Null Count   Dtype  \n",
      "---  ------                                             --------------   -----  \n",
      " 0   VIN (1-10)                                         186879 non-null  object \n",
      " 1   County                                             186876 non-null  object \n",
      " 2   City                                               186876 non-null  object \n",
      " 3   State                                              186879 non-null  object \n",
      " 4   Postal Code                                        186876 non-null  float64\n",
      " 5   Model Year                                         186879 non-null  int64  \n",
      " 6   Make                                               186879 non-null  object \n",
      " 7   Model                                              186879 non-null  object \n",
      " 8   Electric Vehicle Type                              186879 non-null  object \n",
      " 9   Clean Alternative Fuel Vehicle (CAFV) Eligibility  186879 non-null  object \n",
      " 10  Electric Range                                     186879 non-null  int64  \n",
      " 11  Base MSRP                                          186879 non-null  int64  \n",
      " 12  Legislative District                               186476 non-null  float64\n",
      " 13  DOL Vehicle ID                                     186879 non-null  int64  \n",
      " 14  Vehicle Location                                   186871 non-null  object \n",
      " 15  Electric Utility                                   186876 non-null  object \n",
      " 16  2020 Census Tract                                  186876 non-null  float64\n",
      "dtypes: float64(3), int64(4), object(10)\n",
      "memory usage: 24.2+ MB\n"
     ]
    },
    {
     "data": {
      "text/plain": [
       "None"
      ]
     },
     "metadata": {},
     "output_type": "display_data"
    },
    {
     "data": {
      "text/html": [
       "<div>\n",
       "<style scoped>\n",
       "    .dataframe tbody tr th:only-of-type {\n",
       "        vertical-align: middle;\n",
       "    }\n",
       "\n",
       "    .dataframe tbody tr th {\n",
       "        vertical-align: top;\n",
       "    }\n",
       "\n",
       "    .dataframe thead th {\n",
       "        text-align: right;\n",
       "    }\n",
       "</style>\n",
       "<table border=\"1\" class=\"dataframe\">\n",
       "  <thead>\n",
       "    <tr style=\"text-align: right;\">\n",
       "      <th></th>\n",
       "      <th>VIN (1-10)</th>\n",
       "      <th>County</th>\n",
       "      <th>City</th>\n",
       "      <th>State</th>\n",
       "      <th>Postal Code</th>\n",
       "      <th>Model Year</th>\n",
       "      <th>Make</th>\n",
       "      <th>Model</th>\n",
       "      <th>Electric Vehicle Type</th>\n",
       "      <th>Clean Alternative Fuel Vehicle (CAFV) Eligibility</th>\n",
       "      <th>Electric Range</th>\n",
       "      <th>Base MSRP</th>\n",
       "      <th>Legislative District</th>\n",
       "      <th>DOL Vehicle ID</th>\n",
       "      <th>Vehicle Location</th>\n",
       "      <th>Electric Utility</th>\n",
       "      <th>2020 Census Tract</th>\n",
       "    </tr>\n",
       "  </thead>\n",
       "  <tbody>\n",
       "    <tr>\n",
       "      <th>0</th>\n",
       "      <td>WBY8P6C58K</td>\n",
       "      <td>King</td>\n",
       "      <td>Seattle</td>\n",
       "      <td>WA</td>\n",
       "      <td>98115.0</td>\n",
       "      <td>2019</td>\n",
       "      <td>BMW</td>\n",
       "      <td>I3</td>\n",
       "      <td>Battery Electric Vehicle (BEV)</td>\n",
       "      <td>Clean Alternative Fuel Vehicle Eligible</td>\n",
       "      <td>153</td>\n",
       "      <td>0</td>\n",
       "      <td>43.0</td>\n",
       "      <td>259254397</td>\n",
       "      <td>POINT (-122.3008235 47.6862671)</td>\n",
       "      <td>CITY OF SEATTLE - (WA)|CITY OF TACOMA - (WA)</td>\n",
       "      <td>5.303300e+10</td>\n",
       "    </tr>\n",
       "    <tr>\n",
       "      <th>1</th>\n",
       "      <td>5YJSA1DN4D</td>\n",
       "      <td>Kitsap</td>\n",
       "      <td>Bremerton</td>\n",
       "      <td>WA</td>\n",
       "      <td>98312.0</td>\n",
       "      <td>2013</td>\n",
       "      <td>TESLA</td>\n",
       "      <td>MODEL S</td>\n",
       "      <td>Battery Electric Vehicle (BEV)</td>\n",
       "      <td>Clean Alternative Fuel Vehicle Eligible</td>\n",
       "      <td>208</td>\n",
       "      <td>69900</td>\n",
       "      <td>35.0</td>\n",
       "      <td>127420940</td>\n",
       "      <td>POINT (-122.6961203 47.5759584)</td>\n",
       "      <td>PUGET SOUND ENERGY INC</td>\n",
       "      <td>5.303508e+10</td>\n",
       "    </tr>\n",
       "    <tr>\n",
       "      <th>2</th>\n",
       "      <td>5YJSA1E26J</td>\n",
       "      <td>King</td>\n",
       "      <td>Kent</td>\n",
       "      <td>WA</td>\n",
       "      <td>98042.0</td>\n",
       "      <td>2018</td>\n",
       "      <td>TESLA</td>\n",
       "      <td>MODEL S</td>\n",
       "      <td>Battery Electric Vehicle (BEV)</td>\n",
       "      <td>Clean Alternative Fuel Vehicle Eligible</td>\n",
       "      <td>249</td>\n",
       "      <td>0</td>\n",
       "      <td>47.0</td>\n",
       "      <td>170287183</td>\n",
       "      <td>POINT (-122.1145138 47.3581107)</td>\n",
       "      <td>PUGET SOUND ENERGY INC||CITY OF TACOMA - (WA)</td>\n",
       "      <td>5.303303e+10</td>\n",
       "    </tr>\n",
       "    <tr>\n",
       "      <th>3</th>\n",
       "      <td>WBY2Z2C54E</td>\n",
       "      <td>King</td>\n",
       "      <td>Bellevue</td>\n",
       "      <td>WA</td>\n",
       "      <td>98004.0</td>\n",
       "      <td>2014</td>\n",
       "      <td>BMW</td>\n",
       "      <td>I8</td>\n",
       "      <td>Plug-in Hybrid Electric Vehicle (PHEV)</td>\n",
       "      <td>Not eligible due to low battery range</td>\n",
       "      <td>14</td>\n",
       "      <td>0</td>\n",
       "      <td>41.0</td>\n",
       "      <td>205545868</td>\n",
       "      <td>POINT (-122.202397 47.619252)</td>\n",
       "      <td>PUGET SOUND ENERGY INC||CITY OF TACOMA - (WA)</td>\n",
       "      <td>5.303302e+10</td>\n",
       "    </tr>\n",
       "    <tr>\n",
       "      <th>4</th>\n",
       "      <td>5YJXCDE23J</td>\n",
       "      <td>King</td>\n",
       "      <td>Bellevue</td>\n",
       "      <td>WA</td>\n",
       "      <td>98004.0</td>\n",
       "      <td>2018</td>\n",
       "      <td>TESLA</td>\n",
       "      <td>MODEL X</td>\n",
       "      <td>Battery Electric Vehicle (BEV)</td>\n",
       "      <td>Clean Alternative Fuel Vehicle Eligible</td>\n",
       "      <td>238</td>\n",
       "      <td>0</td>\n",
       "      <td>41.0</td>\n",
       "      <td>237977386</td>\n",
       "      <td>POINT (-122.202397 47.619252)</td>\n",
       "      <td>PUGET SOUND ENERGY INC||CITY OF TACOMA - (WA)</td>\n",
       "      <td>5.303302e+10</td>\n",
       "    </tr>\n",
       "  </tbody>\n",
       "</table>\n",
       "</div>"
      ],
      "text/plain": [
       "   VIN (1-10)  County       City State  Postal Code  Model Year   Make  \\\n",
       "0  WBY8P6C58K    King    Seattle    WA      98115.0        2019    BMW   \n",
       "1  5YJSA1DN4D  Kitsap  Bremerton    WA      98312.0        2013  TESLA   \n",
       "2  5YJSA1E26J    King       Kent    WA      98042.0        2018  TESLA   \n",
       "3  WBY2Z2C54E    King   Bellevue    WA      98004.0        2014    BMW   \n",
       "4  5YJXCDE23J    King   Bellevue    WA      98004.0        2018  TESLA   \n",
       "\n",
       "     Model                   Electric Vehicle Type  \\\n",
       "0       I3          Battery Electric Vehicle (BEV)   \n",
       "1  MODEL S          Battery Electric Vehicle (BEV)   \n",
       "2  MODEL S          Battery Electric Vehicle (BEV)   \n",
       "3       I8  Plug-in Hybrid Electric Vehicle (PHEV)   \n",
       "4  MODEL X          Battery Electric Vehicle (BEV)   \n",
       "\n",
       "  Clean Alternative Fuel Vehicle (CAFV) Eligibility  Electric Range  \\\n",
       "0           Clean Alternative Fuel Vehicle Eligible             153   \n",
       "1           Clean Alternative Fuel Vehicle Eligible             208   \n",
       "2           Clean Alternative Fuel Vehicle Eligible             249   \n",
       "3             Not eligible due to low battery range              14   \n",
       "4           Clean Alternative Fuel Vehicle Eligible             238   \n",
       "\n",
       "   Base MSRP  Legislative District  DOL Vehicle ID  \\\n",
       "0          0                  43.0       259254397   \n",
       "1      69900                  35.0       127420940   \n",
       "2          0                  47.0       170287183   \n",
       "3          0                  41.0       205545868   \n",
       "4          0                  41.0       237977386   \n",
       "\n",
       "                  Vehicle Location  \\\n",
       "0  POINT (-122.3008235 47.6862671)   \n",
       "1  POINT (-122.6961203 47.5759584)   \n",
       "2  POINT (-122.1145138 47.3581107)   \n",
       "3    POINT (-122.202397 47.619252)   \n",
       "4    POINT (-122.202397 47.619252)   \n",
       "\n",
       "                                Electric Utility  2020 Census Tract  \n",
       "0   CITY OF SEATTLE - (WA)|CITY OF TACOMA - (WA)       5.303300e+10  \n",
       "1                         PUGET SOUND ENERGY INC       5.303508e+10  \n",
       "2  PUGET SOUND ENERGY INC||CITY OF TACOMA - (WA)       5.303303e+10  \n",
       "3  PUGET SOUND ENERGY INC||CITY OF TACOMA - (WA)       5.303302e+10  \n",
       "4  PUGET SOUND ENERGY INC||CITY OF TACOMA - (WA)       5.303302e+10  "
      ]
     },
     "metadata": {},
     "output_type": "display_data"
    }
   ],
   "source": [
    "display(df.info())\n",
    "display(df.head())"
   ]
  },
  {
   "cell_type": "markdown",
   "id": "dd219e68",
   "metadata": {},
   "source": [
    "# how many records does the data have?"
   ]
  },
  {
   "cell_type": "code",
   "execution_count": 4,
   "id": "8a90b46d",
   "metadata": {},
   "outputs": [
    {
     "data": {
      "text/plain": [
       "'Number of records: '"
      ]
     },
     "metadata": {},
     "output_type": "display_data"
    },
    {
     "data": {
      "text/plain": [
       "186879"
      ]
     },
     "metadata": {},
     "output_type": "display_data"
    }
   ],
   "source": [
    "display(\"Number of records: \", df.shape[0])"
   ]
  },
  {
   "cell_type": "markdown",
   "id": "aadfaf30",
   "metadata": {},
   "source": [
    "# how many features does the data have?\n",
    "\n",
    "In my project, I will consider all the features except the `Electric Vehicle\n",
    "Type` as the feature that I will predict. the rest of the features will be\n",
    "used to predict the `Electric Vehicle Type`."
   ]
  },
  {
   "cell_type": "code",
   "execution_count": 5,
   "id": "87f21dc2",
   "metadata": {},
   "outputs": [
    {
     "data": {
      "text/plain": [
       "'Number of features: '"
      ]
     },
     "metadata": {},
     "output_type": "display_data"
    },
    {
     "data": {
      "text/plain": [
       "16"
      ]
     },
     "metadata": {},
     "output_type": "display_data"
    }
   ],
   "source": [
    "display(\"Number of features: \", df.shape[1] - 1)"
   ]
  },
  {
   "cell_type": "markdown",
   "id": "18d2bcfe",
   "metadata": {},
   "source": [
    "# How many many different classes exist in the dataset?"
   ]
  },
  {
   "cell_type": "code",
   "execution_count": 6,
   "id": "774deedb",
   "metadata": {},
   "outputs": [
    {
     "data": {
      "text/plain": [
       "'Number of classes: '"
      ]
     },
     "metadata": {},
     "output_type": "display_data"
    },
    {
     "data": {
      "text/plain": [
       "2"
      ]
     },
     "metadata": {},
     "output_type": "display_data"
    },
    {
     "data": {
      "text/plain": [
       "'Number of examples per class:\\n'"
      ]
     },
     "metadata": {},
     "output_type": "display_data"
    },
    {
     "data": {
      "text/plain": [
       "Battery Electric Vehicle (BEV)            146297\n",
       "Plug-in Hybrid Electric Vehicle (PHEV)     40582\n",
       "Name: Electric Vehicle Type, dtype: int64"
      ]
     },
     "metadata": {},
     "output_type": "display_data"
    }
   ],
   "source": [
    "display(\"Number of classes: \", len(df['Electric Vehicle Type'].unique()))\n",
    "display(\"Number of examples per class:\\n\",\n",
    "        df['Electric Vehicle Type'].value_counts())"
   ]
  },
  {
   "cell_type": "markdown",
   "id": "207d1f3c",
   "metadata": {},
   "source": [
    "# show how many NULL values exist in the dataset"
   ]
  },
  {
   "cell_type": "code",
   "execution_count": 7,
   "id": "547085ad",
   "metadata": {},
   "outputs": [
    {
     "data": {
      "text/plain": [
       "'Number of NULL values per feature:\\n'"
      ]
     },
     "metadata": {},
     "output_type": "display_data"
    },
    {
     "data": {
      "text/plain": [
       "VIN (1-10)                                             0\n",
       "County                                                 3\n",
       "City                                                   3\n",
       "State                                                  0\n",
       "Postal Code                                            3\n",
       "Model Year                                             0\n",
       "Make                                                   0\n",
       "Model                                                  0\n",
       "Electric Vehicle Type                                  0\n",
       "Clean Alternative Fuel Vehicle (CAFV) Eligibility      0\n",
       "Electric Range                                         0\n",
       "Base MSRP                                              0\n",
       "Legislative District                                 403\n",
       "DOL Vehicle ID                                         0\n",
       "Vehicle Location                                       8\n",
       "Electric Utility                                       3\n",
       "2020 Census Tract                                      3\n",
       "dtype: int64"
      ]
     },
     "metadata": {},
     "output_type": "display_data"
    }
   ],
   "source": [
    "display(\"Number of NULL values per feature:\\n\", df.isnull().sum())"
   ]
  },
  {
   "cell_type": "markdown",
   "id": "0cc489cf",
   "metadata": {},
   "source": [
    "# Which featiures are not numerical?"
   ]
  },
  {
   "cell_type": "code",
   "execution_count": 8,
   "id": "f7d95bbc",
   "metadata": {},
   "outputs": [
    {
     "data": {
      "text/plain": [
       "'Non numerical features:\\n'"
      ]
     },
     "metadata": {},
     "output_type": "display_data"
    },
    {
     "data": {
      "text/plain": [
       "Index(['VIN (1-10)', 'County', 'City', 'State', 'Make', 'Model',\n",
       "       'Electric Vehicle Type',\n",
       "       'Clean Alternative Fuel Vehicle (CAFV) Eligibility', 'Vehicle Location',\n",
       "       'Electric Utility'],\n",
       "      dtype='object')"
      ]
     },
     "metadata": {},
     "output_type": "display_data"
    }
   ],
   "source": [
    "display(\"Non numerical features:\\n\",\n",
    "        df.select_dtypes(exclude=[np.number]).columns)"
   ]
  },
  {
   "cell_type": "markdown",
   "id": "b1333c13",
   "metadata": {},
   "source": [
    "# Find the best correlated Features in the Dataset"
   ]
  },
  {
   "cell_type": "code",
   "execution_count": 9,
   "id": "ce748d4b",
   "metadata": {
    "lines_to_next_cell": 2
   },
   "outputs": [
    {
     "data": {
      "text/plain": [
       "VIN (1-10)    1.00000\n",
       "Model Year    0.19042\n",
       "Name: VIN (1-10), dtype: float64"
      ]
     },
     "metadata": {},
     "output_type": "display_data"
    },
    {
     "data": {
      "text/plain": [
       "County              1.000000\n",
       "Electric Utility    0.117813\n",
       "Name: County, dtype: float64"
      ]
     },
     "metadata": {},
     "output_type": "display_data"
    },
    {
     "data": {
      "text/plain": [
       "City                     1.000000\n",
       "Electric Vehicle Type    0.046245\n",
       "Name: City, dtype: float64"
      ]
     },
     "metadata": {},
     "output_type": "display_data"
    },
    {
     "data": {
      "text/plain": [
       "State                1.000000\n",
       "2020 Census Tract    0.998154\n",
       "Name: State, dtype: float64"
      ]
     },
     "metadata": {},
     "output_type": "display_data"
    },
    {
     "data": {
      "text/plain": [
       "Postal Code          1.000000\n",
       "2020 Census Tract    0.490491\n",
       "Name: Postal Code, dtype: float64"
      ]
     },
     "metadata": {},
     "output_type": "display_data"
    },
    {
     "data": {
      "text/plain": [
       "Model Year                                           1.00000\n",
       "Clean Alternative Fuel Vehicle (CAFV) Eligibility    0.37193\n",
       "Name: Model Year, dtype: float64"
      ]
     },
     "metadata": {},
     "output_type": "display_data"
    },
    {
     "data": {
      "text/plain": [
       "Make     1.000000\n",
       "Model    0.220237\n",
       "Name: Make, dtype: float64"
      ]
     },
     "metadata": {},
     "output_type": "display_data"
    },
    {
     "data": {
      "text/plain": [
       "Model                    1.000000\n",
       "Electric Vehicle Type    0.289535\n",
       "Name: Model, dtype: float64"
      ]
     },
     "metadata": {},
     "output_type": "display_data"
    },
    {
     "data": {
      "text/plain": [
       "Electric Vehicle Type    1.000000\n",
       "Model                    0.289535\n",
       "Name: Electric Vehicle Type, dtype: float64"
      ]
     },
     "metadata": {},
     "output_type": "display_data"
    },
    {
     "data": {
      "text/plain": [
       "Clean Alternative Fuel Vehicle (CAFV) Eligibility    1.00000\n",
       "Model Year                                           0.37193\n",
       "Name: Clean Alternative Fuel Vehicle (CAFV) Eligibility, dtype: float64"
      ]
     },
     "metadata": {},
     "output_type": "display_data"
    },
    {
     "data": {
      "text/plain": [
       "Electric Range    1.00000\n",
       "Base MSRP         0.10903\n",
       "Name: Electric Range, dtype: float64"
      ]
     },
     "metadata": {},
     "output_type": "display_data"
    },
    {
     "data": {
      "text/plain": [
       "Base MSRP         1.00000\n",
       "Electric Range    0.10903\n",
       "Name: Base MSRP, dtype: float64"
      ]
     },
     "metadata": {},
     "output_type": "display_data"
    },
    {
     "data": {
      "text/plain": [
       "Legislative District    1.00000\n",
       "Electric Utility        0.20764\n",
       "Name: Legislative District, dtype: float64"
      ]
     },
     "metadata": {},
     "output_type": "display_data"
    },
    {
     "data": {
      "text/plain": [
       "DOL Vehicle ID    1.000000\n",
       "Model Year        0.156393\n",
       "Name: DOL Vehicle ID, dtype: float64"
      ]
     },
     "metadata": {},
     "output_type": "display_data"
    },
    {
     "data": {
      "text/plain": [
       "Vehicle Location        1.000000\n",
       "Legislative District    0.159224\n",
       "Name: Vehicle Location, dtype: float64"
      ]
     },
     "metadata": {},
     "output_type": "display_data"
    },
    {
     "data": {
      "text/plain": [
       "Electric Utility        1.00000\n",
       "Legislative District    0.20764\n",
       "Name: Electric Utility, dtype: float64"
      ]
     },
     "metadata": {},
     "output_type": "display_data"
    },
    {
     "data": {
      "text/plain": [
       "2020 Census Tract    1.000000\n",
       "State                0.998154\n",
       "Name: 2020 Census Tract, dtype: float64"
      ]
     },
     "metadata": {},
     "output_type": "display_data"
    }
   ],
   "source": [
    "df_tmp = df.copy()\n",
    "label_encoder = LabelEncoder()\n",
    "for column in df_tmp.select_dtypes(include=['object']).columns:\n",
    "    df_tmp[column] = label_encoder.fit_transform(df_tmp[column].astype(str))\n",
    "df_tmp = (df_tmp - df_tmp.mean()) / df_tmp.std()\n",
    "correlation = df_tmp.corr()\n",
    "\n",
    "# Find the best-correlated features in pairs\n",
    "for column in correlation.columns:\n",
    "    display(correlation[column].sort_values(ascending=False).head(2))"
   ]
  },
  {
   "cell_type": "markdown",
   "id": "0922e5d5",
   "metadata": {},
   "source": [
    "# remove the features that have high correlation with each other\n",
    "\n",
    "the `2020 Census Tract` have the most correlation with the `State`. we will\n",
    "remove the `2020 Census Tract` feature."
   ]
  },
  {
   "cell_type": "code",
   "execution_count": 10,
   "id": "15570ce8",
   "metadata": {},
   "outputs": [],
   "source": [
    "df = df.drop(columns=['2020 Census Tract'])"
   ]
  },
  {
   "cell_type": "markdown",
   "id": "183b6cee",
   "metadata": {},
   "source": [
    "# remove `DOL Vehicle ID` since it's not useful for the prediction, all the\n",
    "values are unique"
   ]
  },
  {
   "cell_type": "code",
   "execution_count": 11,
   "id": "8dd7f0ad",
   "metadata": {},
   "outputs": [],
   "source": [
    "df = df.drop(columns=['DOL Vehicle ID'])"
   ]
  },
  {
   "cell_type": "markdown",
   "id": "0d51ce57",
   "metadata": {},
   "source": [
    "# Drop the `State` feature since it's not useful for the prediction, all the\n",
    "values are the same"
   ]
  },
  {
   "cell_type": "code",
   "execution_count": 12,
   "id": "f052e80d",
   "metadata": {},
   "outputs": [],
   "source": [
    "df = df.drop(columns=['State'])"
   ]
  },
  {
   "cell_type": "markdown",
   "id": "e498b31a",
   "metadata": {},
   "source": [
    "# transform the following features with LabelEncoder\n",
    "\n",
    "`VIN (1-10)`, `County`, `City`, `State`, `Postal Code`, `Model Year`, `Make`,\n",
    "`Model`, `Electric Vehicle Type`, `Electric Range`, `Base MSRP`, `Legislative\n",
    "District`, `Electric Utility`."
   ]
  },
  {
   "cell_type": "code",
   "execution_count": 13,
   "id": "e314f4fa",
   "metadata": {},
   "outputs": [],
   "source": [
    "label_encoder = LabelEncoder()\n",
    "\n",
    "for column in ['VIN (1-10)', 'County', 'City', 'Postal Code', 'Model Year',\n",
    "               'Make', 'Model', 'Electric Vehicle Type', 'Electric Range',\n",
    "               'Base MSRP', 'Legislative District', 'Electric Utility']:\n",
    "    df[column] = label_encoder.fit_transform(df[column].astype(str))"
   ]
  },
  {
   "cell_type": "markdown",
   "id": "e504e9a4",
   "metadata": {},
   "source": [
    "# transform the 'Clean Alternative Fuel Vehicle (CAFV) Eligibility` with\n",
    "OneHotEncoder"
   ]
  },
  {
   "cell_type": "code",
   "execution_count": 14,
   "id": "d8524b1d",
   "metadata": {},
   "outputs": [],
   "source": [
    "one_hot_encoder = OneHotEncoder()\n",
    "transformed_data = one_hot_encoder.fit_transform(\n",
    "    df[['Clean Alternative Fuel Vehicle (CAFV) Eligibility']]).toarray()\n",
    "column_names = one_hot_encoder.categories_[0]\n",
    "df = pd.concat(\n",
    "    [df, pd.DataFrame(transformed_data, columns=column_names)], axis=1)\n",
    "\n",
    "df = df.drop(columns=['Clean Alternative Fuel Vehicle (CAFV) Eligibility'])"
   ]
  },
  {
   "cell_type": "markdown",
   "id": "9b1d479b",
   "metadata": {},
   "source": [
    "# transform the 'Vehicle Location' by splitting the values for the latitude\n",
    "and longitude. i.e. `POINT (-122.1207376 47.6705374` to `-122.1207376` and\n",
    "`47.6705374`"
   ]
  },
  {
   "cell_type": "code",
   "execution_count": 15,
   "id": "8b16853a",
   "metadata": {},
   "outputs": [],
   "source": [
    "cleaned_data = df['Vehicle Location'].str.extract(r'POINT \\((?P<Longitude>[-\\d.]+) (?P<Latitude>[-\\d.]+)')\n",
    "df['Longitude'] = cleaned_data['Longitude']\n",
    "df['Latitude'] = cleaned_data['Latitude']\n",
    "df['Longitude'] = df['Longitude'].astype(float)\n",
    "df['Latitude'] = df['Latitude'].astype(float)\n",
    "\n",
    "df = df.drop(columns=['Vehicle Location'])"
   ]
  },
  {
   "cell_type": "markdown",
   "id": "855819a3",
   "metadata": {},
   "source": [
    "# drop the rest of the rows that have NULL values"
   ]
  },
  {
   "cell_type": "code",
   "execution_count": 16,
   "id": "4b59238c",
   "metadata": {},
   "outputs": [],
   "source": [
    "df.dropna(inplace=True)"
   ]
  },
  {
   "cell_type": "markdown",
   "id": "82201bb7",
   "metadata": {},
   "source": [
    "# simple impute"
   ]
  },
  {
   "cell_type": "code",
   "execution_count": 17,
   "id": "577b752c",
   "metadata": {},
   "outputs": [],
   "source": [
    "imputer = SimpleImputer(strategy='mean')\n",
    "df = pd.DataFrame(imputer.fit_transform(df), columns=df.columns)"
   ]
  },
  {
   "cell_type": "markdown",
   "id": "72f7a7f5",
   "metadata": {},
   "source": [
    "# display the head and info of the data"
   ]
  },
  {
   "cell_type": "code",
   "execution_count": 18,
   "id": "173afd6f",
   "metadata": {},
   "outputs": [
    {
     "name": "stdout",
     "output_type": "stream",
     "text": [
      "<class 'pandas.core.frame.DataFrame'>\n",
      "RangeIndex: 186871 entries, 0 to 186870\n",
      "Data columns (total 17 columns):\n",
      " #   Column                                                        Non-Null Count   Dtype  \n",
      "---  ------                                                        --------------   -----  \n",
      " 0   VIN (1-10)                                                    186871 non-null  float64\n",
      " 1   County                                                        186871 non-null  float64\n",
      " 2   City                                                          186871 non-null  float64\n",
      " 3   Postal Code                                                   186871 non-null  float64\n",
      " 4   Model Year                                                    186871 non-null  float64\n",
      " 5   Make                                                          186871 non-null  float64\n",
      " 6   Model                                                         186871 non-null  float64\n",
      " 7   Electric Vehicle Type                                         186871 non-null  float64\n",
      " 8   Electric Range                                                186871 non-null  float64\n",
      " 9   Base MSRP                                                     186871 non-null  float64\n",
      " 10  Legislative District                                          186871 non-null  float64\n",
      " 11  Electric Utility                                              186871 non-null  float64\n",
      " 12  Clean Alternative Fuel Vehicle Eligible                       186871 non-null  float64\n",
      " 13  Eligibility unknown as battery range has not been researched  186871 non-null  float64\n",
      " 14  Not eligible due to low battery range                         186871 non-null  float64\n",
      " 15  Longitude                                                     186871 non-null  float64\n",
      " 16  Latitude                                                      186871 non-null  float64\n",
      "dtypes: float64(17)\n",
      "memory usage: 24.2 MB\n"
     ]
    },
    {
     "data": {
      "text/plain": [
       "None"
      ]
     },
     "metadata": {},
     "output_type": "display_data"
    },
    {
     "data": {
      "text/html": [
       "<div>\n",
       "<style scoped>\n",
       "    .dataframe tbody tr th:only-of-type {\n",
       "        vertical-align: middle;\n",
       "    }\n",
       "\n",
       "    .dataframe tbody tr th {\n",
       "        vertical-align: top;\n",
       "    }\n",
       "\n",
       "    .dataframe thead th {\n",
       "        text-align: right;\n",
       "    }\n",
       "</style>\n",
       "<table border=\"1\" class=\"dataframe\">\n",
       "  <thead>\n",
       "    <tr style=\"text-align: right;\">\n",
       "      <th></th>\n",
       "      <th>VIN (1-10)</th>\n",
       "      <th>County</th>\n",
       "      <th>City</th>\n",
       "      <th>Postal Code</th>\n",
       "      <th>Model Year</th>\n",
       "      <th>Make</th>\n",
       "      <th>Model</th>\n",
       "      <th>Electric Vehicle Type</th>\n",
       "      <th>Electric Range</th>\n",
       "      <th>Base MSRP</th>\n",
       "      <th>Legislative District</th>\n",
       "      <th>Electric Utility</th>\n",
       "      <th>Clean Alternative Fuel Vehicle Eligible</th>\n",
       "      <th>Eligibility unknown as battery range has not been researched</th>\n",
       "      <th>Not eligible due to low battery range</th>\n",
       "      <th>Longitude</th>\n",
       "      <th>Latitude</th>\n",
       "    </tr>\n",
       "  </thead>\n",
       "  <tbody>\n",
       "    <tr>\n",
       "      <th>0</th>\n",
       "      <td>9281.0</td>\n",
       "      <td>83.0</td>\n",
       "      <td>581.0</td>\n",
       "      <td>395.0</td>\n",
       "      <td>16.0</td>\n",
       "      <td>4.0</td>\n",
       "      <td>66.0</td>\n",
       "      <td>0.0</td>\n",
       "      <td>19.0</td>\n",
       "      <td>0.0</td>\n",
       "      <td>37.0</td>\n",
       "      <td>57.0</td>\n",
       "      <td>1.0</td>\n",
       "      <td>0.0</td>\n",
       "      <td>0.0</td>\n",
       "      <td>-122.300824</td>\n",
       "      <td>47.686267</td>\n",
       "    </tr>\n",
       "    <tr>\n",
       "      <th>1</th>\n",
       "      <td>3574.0</td>\n",
       "      <td>85.0</td>\n",
       "      <td>59.0</td>\n",
       "      <td>490.0</td>\n",
       "      <td>10.0</td>\n",
       "      <td>34.0</td>\n",
       "      <td>82.0</td>\n",
       "      <td>0.0</td>\n",
       "      <td>30.0</td>\n",
       "      <td>23.0</td>\n",
       "      <td>28.0</td>\n",
       "      <td>73.0</td>\n",
       "      <td>1.0</td>\n",
       "      <td>0.0</td>\n",
       "      <td>0.0</td>\n",
       "      <td>-122.696120</td>\n",
       "      <td>47.575958</td>\n",
       "    </tr>\n",
       "    <tr>\n",
       "      <th>2</th>\n",
       "      <td>3687.0</td>\n",
       "      <td>83.0</td>\n",
       "      <td>299.0</td>\n",
       "      <td>362.0</td>\n",
       "      <td>15.0</td>\n",
       "      <td>34.0</td>\n",
       "      <td>82.0</td>\n",
       "      <td>0.0</td>\n",
       "      <td>45.0</td>\n",
       "      <td>0.0</td>\n",
       "      <td>41.0</td>\n",
       "      <td>74.0</td>\n",
       "      <td>1.0</td>\n",
       "      <td>0.0</td>\n",
       "      <td>0.0</td>\n",
       "      <td>-122.114514</td>\n",
       "      <td>47.358111</td>\n",
       "    </tr>\n",
       "    <tr>\n",
       "      <th>3</th>\n",
       "      <td>8989.0</td>\n",
       "      <td>83.0</td>\n",
       "      <td>44.0</td>\n",
       "      <td>333.0</td>\n",
       "      <td>11.0</td>\n",
       "      <td>4.0</td>\n",
       "      <td>70.0</td>\n",
       "      <td>1.0</td>\n",
       "      <td>14.0</td>\n",
       "      <td>0.0</td>\n",
       "      <td>35.0</td>\n",
       "      <td>74.0</td>\n",
       "      <td>0.0</td>\n",
       "      <td>0.0</td>\n",
       "      <td>1.0</td>\n",
       "      <td>-122.202397</td>\n",
       "      <td>47.619252</td>\n",
       "    </tr>\n",
       "    <tr>\n",
       "      <th>4</th>\n",
       "      <td>4268.0</td>\n",
       "      <td>83.0</td>\n",
       "      <td>44.0</td>\n",
       "      <td>333.0</td>\n",
       "      <td>15.0</td>\n",
       "      <td>34.0</td>\n",
       "      <td>83.0</td>\n",
       "      <td>0.0</td>\n",
       "      <td>41.0</td>\n",
       "      <td>0.0</td>\n",
       "      <td>35.0</td>\n",
       "      <td>74.0</td>\n",
       "      <td>1.0</td>\n",
       "      <td>0.0</td>\n",
       "      <td>0.0</td>\n",
       "      <td>-122.202397</td>\n",
       "      <td>47.619252</td>\n",
       "    </tr>\n",
       "  </tbody>\n",
       "</table>\n",
       "</div>"
      ],
      "text/plain": [
       "   VIN (1-10)  County   City  Postal Code  Model Year  Make  Model  \\\n",
       "0      9281.0    83.0  581.0        395.0        16.0   4.0   66.0   \n",
       "1      3574.0    85.0   59.0        490.0        10.0  34.0   82.0   \n",
       "2      3687.0    83.0  299.0        362.0        15.0  34.0   82.0   \n",
       "3      8989.0    83.0   44.0        333.0        11.0   4.0   70.0   \n",
       "4      4268.0    83.0   44.0        333.0        15.0  34.0   83.0   \n",
       "\n",
       "   Electric Vehicle Type  Electric Range  Base MSRP  Legislative District  \\\n",
       "0                    0.0            19.0        0.0                  37.0   \n",
       "1                    0.0            30.0       23.0                  28.0   \n",
       "2                    0.0            45.0        0.0                  41.0   \n",
       "3                    1.0            14.0        0.0                  35.0   \n",
       "4                    0.0            41.0        0.0                  35.0   \n",
       "\n",
       "   Electric Utility  Clean Alternative Fuel Vehicle Eligible  \\\n",
       "0              57.0                                      1.0   \n",
       "1              73.0                                      1.0   \n",
       "2              74.0                                      1.0   \n",
       "3              74.0                                      0.0   \n",
       "4              74.0                                      1.0   \n",
       "\n",
       "   Eligibility unknown as battery range has not been researched  \\\n",
       "0                                                0.0              \n",
       "1                                                0.0              \n",
       "2                                                0.0              \n",
       "3                                                0.0              \n",
       "4                                                0.0              \n",
       "\n",
       "   Not eligible due to low battery range   Longitude   Latitude  \n",
       "0                                    0.0 -122.300824  47.686267  \n",
       "1                                    0.0 -122.696120  47.575958  \n",
       "2                                    0.0 -122.114514  47.358111  \n",
       "3                                    1.0 -122.202397  47.619252  \n",
       "4                                    0.0 -122.202397  47.619252  "
      ]
     },
     "metadata": {},
     "output_type": "display_data"
    }
   ],
   "source": [
    "display(df.info())\n",
    "display(df.head())"
   ]
  },
  {
   "cell_type": "markdown",
   "id": "6c32a6dc",
   "metadata": {},
   "source": [
    "# normalize the data"
   ]
  },
  {
   "cell_type": "code",
   "execution_count": 19,
   "id": "68016fc3",
   "metadata": {},
   "outputs": [],
   "source": [
    "scaler = StandardScaler()\n",
    "df[df.columns] = scaler.fit_transform(df[df.columns])"
   ]
  },
  {
   "cell_type": "markdown",
   "id": "ec3b9d10",
   "metadata": {},
   "source": [
    "# display the head and info of the data"
   ]
  },
  {
   "cell_type": "code",
   "execution_count": 20,
   "id": "96aa9bd7",
   "metadata": {},
   "outputs": [
    {
     "name": "stdout",
     "output_type": "stream",
     "text": [
      "<class 'pandas.core.frame.DataFrame'>\n",
      "RangeIndex: 186871 entries, 0 to 186870\n",
      "Data columns (total 17 columns):\n",
      " #   Column                                                        Non-Null Count   Dtype  \n",
      "---  ------                                                        --------------   -----  \n",
      " 0   VIN (1-10)                                                    186871 non-null  float64\n",
      " 1   County                                                        186871 non-null  float64\n",
      " 2   City                                                          186871 non-null  float64\n",
      " 3   Postal Code                                                   186871 non-null  float64\n",
      " 4   Model Year                                                    186871 non-null  float64\n",
      " 5   Make                                                          186871 non-null  float64\n",
      " 6   Model                                                         186871 non-null  float64\n",
      " 7   Electric Vehicle Type                                         186871 non-null  float64\n",
      " 8   Electric Range                                                186871 non-null  float64\n",
      " 9   Base MSRP                                                     186871 non-null  float64\n",
      " 10  Legislative District                                          186871 non-null  float64\n",
      " 11  Electric Utility                                              186871 non-null  float64\n",
      " 12  Clean Alternative Fuel Vehicle Eligible                       186871 non-null  float64\n",
      " 13  Eligibility unknown as battery range has not been researched  186871 non-null  float64\n",
      " 14  Not eligible due to low battery range                         186871 non-null  float64\n",
      " 15  Longitude                                                     186871 non-null  float64\n",
      " 16  Latitude                                                      186871 non-null  float64\n",
      "dtypes: float64(17)\n",
      "memory usage: 24.2 MB\n"
     ]
    },
    {
     "data": {
      "text/plain": [
       "None"
      ]
     },
     "metadata": {},
     "output_type": "display_data"
    },
    {
     "data": {
      "text/html": [
       "<div>\n",
       "<style scoped>\n",
       "    .dataframe tbody tr th:only-of-type {\n",
       "        vertical-align: middle;\n",
       "    }\n",
       "\n",
       "    .dataframe tbody tr th {\n",
       "        vertical-align: top;\n",
       "    }\n",
       "\n",
       "    .dataframe thead th {\n",
       "        text-align: right;\n",
       "    }\n",
       "</style>\n",
       "<table border=\"1\" class=\"dataframe\">\n",
       "  <thead>\n",
       "    <tr style=\"text-align: right;\">\n",
       "      <th></th>\n",
       "      <th>VIN (1-10)</th>\n",
       "      <th>County</th>\n",
       "      <th>City</th>\n",
       "      <th>Postal Code</th>\n",
       "      <th>Model Year</th>\n",
       "      <th>Make</th>\n",
       "      <th>Model</th>\n",
       "      <th>Electric Vehicle Type</th>\n",
       "      <th>Electric Range</th>\n",
       "      <th>Base MSRP</th>\n",
       "      <th>Legislative District</th>\n",
       "      <th>Electric Utility</th>\n",
       "      <th>Clean Alternative Fuel Vehicle Eligible</th>\n",
       "      <th>Eligibility unknown as battery range has not been researched</th>\n",
       "      <th>Not eligible due to low battery range</th>\n",
       "      <th>Longitude</th>\n",
       "      <th>Latitude</th>\n",
       "    </tr>\n",
       "  </thead>\n",
       "  <tbody>\n",
       "    <tr>\n",
       "      <th>0</th>\n",
       "      <td>2.017198</td>\n",
       "      <td>-0.446484</td>\n",
       "      <td>0.802020</td>\n",
       "      <td>-0.483380</td>\n",
       "      <td>-0.555710</td>\n",
       "      <td>-1.857056</td>\n",
       "      <td>-0.494005</td>\n",
       "      <td>-0.526672</td>\n",
       "      <td>-0.159064</td>\n",
       "      <td>-0.124105</td>\n",
       "      <td>0.760239</td>\n",
       "      <td>-0.223520</td>\n",
       "      <td>1.325175</td>\n",
       "      <td>-1.058752</td>\n",
       "      <td>-0.349137</td>\n",
       "      <td>-0.153070</td>\n",
       "      <td>0.300534</td>\n",
       "    </tr>\n",
       "    <tr>\n",
       "      <th>1</th>\n",
       "      <td>-0.266451</td>\n",
       "      <td>-0.400086</td>\n",
       "      <td>-1.572625</td>\n",
       "      <td>0.222600</td>\n",
       "      <td>-2.563898</td>\n",
       "      <td>0.734896</td>\n",
       "      <td>0.073182</td>\n",
       "      <td>-0.526672</td>\n",
       "      <td>0.203881</td>\n",
       "      <td>9.288278</td>\n",
       "      <td>0.122318</td>\n",
       "      <td>0.618811</td>\n",
       "      <td>1.325175</td>\n",
       "      <td>-1.058752</td>\n",
       "      <td>-0.349137</td>\n",
       "      <td>-0.374590</td>\n",
       "      <td>0.166210</td>\n",
       "    </tr>\n",
       "    <tr>\n",
       "      <th>2</th>\n",
       "      <td>-0.221234</td>\n",
       "      <td>-0.446484</td>\n",
       "      <td>-0.480834</td>\n",
       "      <td>-0.728616</td>\n",
       "      <td>-0.890408</td>\n",
       "      <td>0.734896</td>\n",
       "      <td>0.073182</td>\n",
       "      <td>-0.526672</td>\n",
       "      <td>0.698807</td>\n",
       "      <td>-0.124105</td>\n",
       "      <td>1.043760</td>\n",
       "      <td>0.671457</td>\n",
       "      <td>1.325175</td>\n",
       "      <td>-1.058752</td>\n",
       "      <td>-0.349137</td>\n",
       "      <td>-0.048665</td>\n",
       "      <td>-0.099065</td>\n",
       "    </tr>\n",
       "    <tr>\n",
       "      <th>3</th>\n",
       "      <td>1.900355</td>\n",
       "      <td>-0.446484</td>\n",
       "      <td>-1.640862</td>\n",
       "      <td>-0.944126</td>\n",
       "      <td>-2.229200</td>\n",
       "      <td>-1.857056</td>\n",
       "      <td>-0.352208</td>\n",
       "      <td>1.898714</td>\n",
       "      <td>-0.324040</td>\n",
       "      <td>-0.124105</td>\n",
       "      <td>0.618479</td>\n",
       "      <td>0.671457</td>\n",
       "      <td>-0.754618</td>\n",
       "      <td>-1.058752</td>\n",
       "      <td>2.864202</td>\n",
       "      <td>-0.097913</td>\n",
       "      <td>0.218929</td>\n",
       "    </tr>\n",
       "    <tr>\n",
       "      <th>4</th>\n",
       "      <td>0.011253</td>\n",
       "      <td>-0.446484</td>\n",
       "      <td>-1.640862</td>\n",
       "      <td>-0.944126</td>\n",
       "      <td>-0.890408</td>\n",
       "      <td>0.734896</td>\n",
       "      <td>0.108631</td>\n",
       "      <td>-0.526672</td>\n",
       "      <td>0.566827</td>\n",
       "      <td>-0.124105</td>\n",
       "      <td>0.618479</td>\n",
       "      <td>0.671457</td>\n",
       "      <td>1.325175</td>\n",
       "      <td>-1.058752</td>\n",
       "      <td>-0.349137</td>\n",
       "      <td>-0.097913</td>\n",
       "      <td>0.218929</td>\n",
       "    </tr>\n",
       "  </tbody>\n",
       "</table>\n",
       "</div>"
      ],
      "text/plain": [
       "   VIN (1-10)    County      City  Postal Code  Model Year      Make  \\\n",
       "0    2.017198 -0.446484  0.802020    -0.483380   -0.555710 -1.857056   \n",
       "1   -0.266451 -0.400086 -1.572625     0.222600   -2.563898  0.734896   \n",
       "2   -0.221234 -0.446484 -0.480834    -0.728616   -0.890408  0.734896   \n",
       "3    1.900355 -0.446484 -1.640862    -0.944126   -2.229200 -1.857056   \n",
       "4    0.011253 -0.446484 -1.640862    -0.944126   -0.890408  0.734896   \n",
       "\n",
       "      Model  Electric Vehicle Type  Electric Range  Base MSRP  \\\n",
       "0 -0.494005              -0.526672       -0.159064  -0.124105   \n",
       "1  0.073182              -0.526672        0.203881   9.288278   \n",
       "2  0.073182              -0.526672        0.698807  -0.124105   \n",
       "3 -0.352208               1.898714       -0.324040  -0.124105   \n",
       "4  0.108631              -0.526672        0.566827  -0.124105   \n",
       "\n",
       "   Legislative District  Electric Utility  \\\n",
       "0              0.760239         -0.223520   \n",
       "1              0.122318          0.618811   \n",
       "2              1.043760          0.671457   \n",
       "3              0.618479          0.671457   \n",
       "4              0.618479          0.671457   \n",
       "\n",
       "   Clean Alternative Fuel Vehicle Eligible  \\\n",
       "0                                 1.325175   \n",
       "1                                 1.325175   \n",
       "2                                 1.325175   \n",
       "3                                -0.754618   \n",
       "4                                 1.325175   \n",
       "\n",
       "   Eligibility unknown as battery range has not been researched  \\\n",
       "0                                          -1.058752              \n",
       "1                                          -1.058752              \n",
       "2                                          -1.058752              \n",
       "3                                          -1.058752              \n",
       "4                                          -1.058752              \n",
       "\n",
       "   Not eligible due to low battery range  Longitude  Latitude  \n",
       "0                              -0.349137  -0.153070  0.300534  \n",
       "1                              -0.349137  -0.374590  0.166210  \n",
       "2                              -0.349137  -0.048665 -0.099065  \n",
       "3                               2.864202  -0.097913  0.218929  \n",
       "4                              -0.349137  -0.097913  0.218929  "
      ]
     },
     "metadata": {},
     "output_type": "display_data"
    }
   ],
   "source": [
    "display(df.info())\n",
    "display(df.head())"
   ]
  },
  {
   "cell_type": "markdown",
   "id": "9e371c2d",
   "metadata": {},
   "source": [
    "# train data with 5 different classification models\n",
    "\n",
    "- KNeighborsClassifier\n",
    "- DecisionTreeClassifier\n",
    "- RandomForestClassifier\n",
    "- AdaBoostClassifier\n",
    "- Naive Bayes\n",
    "\n",
    "I will save the accuracy and the time it took to train the model for each\n",
    "model in a dictionary."
   ]
  },
  {
   "cell_type": "markdown",
   "id": "1d206677",
   "metadata": {},
   "source": [
    "# split the data to X and y"
   ]
  },
  {
   "cell_type": "code",
   "execution_count": 21,
   "id": "0d8b2104",
   "metadata": {},
   "outputs": [],
   "source": [
    "X = df.drop(columns=['Electric Vehicle Type'])\n",
    "y = df['Electric Vehicle Type'].astype(int)  # Ensure y is categorical\n",
    "\n",
    "X_train, X_test, y_train, y_test = train_test_split(\n",
    "    X, y, test_size=0.2, random_state=42)"
   ]
  },
  {
   "cell_type": "markdown",
   "id": "9307ea00",
   "metadata": {},
   "source": [
    "# KNeighborsClassifier"
   ]
  },
  {
   "cell_type": "code",
   "execution_count": 22,
   "id": "3fd09969",
   "metadata": {},
   "outputs": [],
   "source": [
    "knn = KNeighborsClassifier()\n",
    "start_time = time.time()\n",
    "knn.fit(X_train, y_train)\n",
    "knn_pred = knn.predict(X_test)\n",
    "end_time = time.time()\n",
    "knn_accuracy = accuracy_score(y_test, knn_pred)\n",
    "\n",
    "# display(f\"KNeighborsClassifier Accuracy: {knn_accuracy}\")\n",
    "# display(f\"Training Time: {end_time - start_time} seconds\")\n",
    "\n",
    "models_info_dict = {}\n",
    "\n",
    "models_info_dict['KNeighborsClassifier'] = {\n",
    "    'accuracy': knn_accuracy, 'time': end_time - start_time\n",
    "}"
   ]
  },
  {
   "cell_type": "markdown",
   "id": "43c45ceb",
   "metadata": {},
   "source": [
    "# DecisionTreeClassifier"
   ]
  },
  {
   "cell_type": "code",
   "execution_count": 23,
   "id": "18657252",
   "metadata": {},
   "outputs": [],
   "source": [
    "dt = DecisionTreeClassifier()\n",
    "start_time = time.time()\n",
    "dt.fit(X_train, y_train)\n",
    "dt_pred = dt.predict(X_test)\n",
    "end_time = time.time()\n",
    "dt_accuracy = accuracy_score(y_test, dt_pred)\n",
    "\n",
    "# display(f\"DecisionTreeClassifier Accuracy: {dt_accuracy}\")\n",
    "# display(f\"Training Time: {end_time - start_time} seconds\")\n",
    "\n",
    "models_info_dict['DecisionTreeClassifier'] = {\n",
    "    'accuracy': dt_accuracy, 'time': end_time - start_time\n",
    "}"
   ]
  },
  {
   "cell_type": "markdown",
   "id": "a58b8c4c",
   "metadata": {},
   "source": [
    "# RandomForestClassifier"
   ]
  },
  {
   "cell_type": "code",
   "execution_count": 24,
   "id": "3437c0c9",
   "metadata": {},
   "outputs": [],
   "source": [
    "rf = RandomForestClassifier()\n",
    "start_time = time.time()\n",
    "rf.fit(X_train, y_train)\n",
    "rf_pred = rf.predict(X_test)\n",
    "end_time = time.time()\n",
    "rf_accuracy = accuracy_score(y_test, rf_pred)\n",
    "\n",
    "# display(f\"RandomForestClassifier Accuracy: {rf_accuracy}\")\n",
    "# display(f\"Training Time: {end_time - start_time} seconds\")\n",
    "\n",
    "models_info_dict['RandomForestClassifier'] = {\n",
    "    'accuracy': rf_accuracy, 'time': end_time - start_time\n",
    "}"
   ]
  },
  {
   "cell_type": "markdown",
   "id": "69031268",
   "metadata": {},
   "source": [
    "# AdaBoostClassifier"
   ]
  },
  {
   "cell_type": "code",
   "execution_count": 25,
   "id": "8e843d10",
   "metadata": {},
   "outputs": [
    {
     "name": "stderr",
     "output_type": "stream",
     "text": [
      "/usr/lib/python3.12/site-packages/sklearn/ensemble/_weight_boosting.py:527: FutureWarning: The SAMME.R algorithm (the default) is deprecated and will be removed in 1.6. Use the SAMME algorithm to circumvent this warning.\n",
      "  warnings.warn(\n"
     ]
    }
   ],
   "source": [
    "ada = AdaBoostClassifier()\n",
    "start_time = time.time()\n",
    "ada.fit(X_train, y_train)\n",
    "ada_pred = ada.predict(X_test)\n",
    "end_time = time.time()\n",
    "ada_accuracy = accuracy_score(y_test, ada_pred)\n",
    "\n",
    "# display(f\"AdaBoostClassifier Accuracy: {ada_accuracy}\")\n",
    "# display(f\"Training Time: {end_time - start_time} seconds\")\n",
    "\n",
    "models_info_dict['AdaBoostClassifier'] = {\n",
    "    'accuracy': ada_accuracy, 'time': end_time - start_time\n",
    "}"
   ]
  },
  {
   "cell_type": "markdown",
   "id": "f3cfe6a9",
   "metadata": {},
   "source": [
    "# Naive Bayes"
   ]
  },
  {
   "cell_type": "code",
   "execution_count": 26,
   "id": "eecaae8e",
   "metadata": {},
   "outputs": [
    {
     "data": {
      "text/plain": [
       "'Naive Bayes Accuracy: 0.9837859531772575'"
      ]
     },
     "metadata": {},
     "output_type": "display_data"
    },
    {
     "data": {
      "text/plain": [
       "'Training Time: 0.21153473854064941 seconds'"
      ]
     },
     "metadata": {},
     "output_type": "display_data"
    }
   ],
   "source": [
    "nb = LogisticRegression()\n",
    "start_time = time.time()\n",
    "nb.fit(X_train, y_train)\n",
    "nb_pred = nb.predict(X_test)\n",
    "end_time = time.time()\n",
    "nb_accuracy = accuracy_score(y_test, nb_pred)\n",
    "\n",
    "display(f\"Naive Bayes Accuracy: {nb_accuracy}\")\n",
    "display(f\"Training Time: {end_time - start_time} seconds\")\n",
    "\n",
    "models_info_dict['Naive Bayes'] = {\n",
    "    'accuracy': nb_accuracy, 'time': end_time - start_time\n",
    "}"
   ]
  },
  {
   "cell_type": "markdown",
   "id": "2d127b2b",
   "metadata": {},
   "source": [
    "# display the models info"
   ]
  },
  {
   "cell_type": "code",
   "execution_count": 27,
   "id": "bf1d3080",
   "metadata": {},
   "outputs": [
    {
     "data": {
      "text/plain": [
       "'With random split we reached the following results:'"
      ]
     },
     "metadata": {},
     "output_type": "display_data"
    },
    {
     "data": {
      "text/plain": [
       "{'KNeighborsClassifier': {'accuracy': 0.9972709030100334,\n",
       "  'time': 6.462297439575195},\n",
       " 'DecisionTreeClassifier': {'accuracy': 0.9999732441471572,\n",
       "  'time': 0.2932779788970947},\n",
       " 'RandomForestClassifier': {'accuracy': 0.9999197324414716,\n",
       "  'time': 9.46071195602417},\n",
       " 'AdaBoostClassifier': {'accuracy': 0.9999464882943144,\n",
       "  'time': 6.043435335159302},\n",
       " 'Naive Bayes': {'accuracy': 0.9837859531772575, 'time': 0.21153473854064941}}"
      ]
     },
     "metadata": {},
     "output_type": "display_data"
    }
   ],
   "source": [
    "display(\"With random split we reached the following results:\")\n",
    "display(models_info_dict)"
   ]
  },
  {
   "cell_type": "markdown",
   "id": "f12a14f0",
   "metadata": {},
   "source": [
    "# 5-fold approach to measure the performance of the system"
   ]
  },
  {
   "cell_type": "code",
   "execution_count": 28,
   "id": "4e0892ff",
   "metadata": {},
   "outputs": [
    {
     "name": "stderr",
     "output_type": "stream",
     "text": [
      "/usr/lib/python3.12/site-packages/sklearn/ensemble/_weight_boosting.py:527: FutureWarning: The SAMME.R algorithm (the default) is deprecated and will be removed in 1.6. Use the SAMME algorithm to circumvent this warning.\n",
      "  warnings.warn(\n",
      "/usr/lib/python3.12/site-packages/sklearn/ensemble/_weight_boosting.py:527: FutureWarning: The SAMME.R algorithm (the default) is deprecated and will be removed in 1.6. Use the SAMME algorithm to circumvent this warning.\n",
      "  warnings.warn(\n",
      "/usr/lib/python3.12/site-packages/sklearn/ensemble/_weight_boosting.py:527: FutureWarning: The SAMME.R algorithm (the default) is deprecated and will be removed in 1.6. Use the SAMME algorithm to circumvent this warning.\n",
      "  warnings.warn(\n",
      "/usr/lib/python3.12/site-packages/sklearn/ensemble/_weight_boosting.py:527: FutureWarning: The SAMME.R algorithm (the default) is deprecated and will be removed in 1.6. Use the SAMME algorithm to circumvent this warning.\n",
      "  warnings.warn(\n",
      "/usr/lib/python3.12/site-packages/sklearn/ensemble/_weight_boosting.py:527: FutureWarning: The SAMME.R algorithm (the default) is deprecated and will be removed in 1.6. Use the SAMME algorithm to circumvent this warning.\n",
      "  warnings.warn(\n"
     ]
    },
    {
     "data": {
      "text/plain": [
       "'With 5-fold approach we reached the following results:'"
      ]
     },
     "metadata": {},
     "output_type": "display_data"
    },
    {
     "data": {
      "text/plain": [
       "{'KNeighborsClassifier': {'accuracy': 0.9967410618116113,\n",
       "  'time': 32.992400884628296},\n",
       " 'DecisionTreeClassifier': {'accuracy': 0.9999678924038727,\n",
       "  'time': 1.3860268592834473},\n",
       " 'RandomForestClassifier': {'accuracy': 0.999930433350819,\n",
       "  'time': 42.670209884643555},\n",
       " 'AdaBoostClassifier': {'accuracy': 0.9999250817507136,\n",
       "  'time': 29.012213945388794},\n",
       " 'Naive Bayes': {'accuracy': 0.9844224051452792, 'time': 0.9665944576263428}}"
      ]
     },
     "metadata": {},
     "output_type": "display_data"
    }
   ],
   "source": [
    "# KFold\n",
    "models_info_dict = {}\n",
    "\n",
    "kf = KFold(n_splits=5)\n",
    "knn = KNeighborsClassifier()\n",
    "dt = DecisionTreeClassifier()\n",
    "rf = RandomForestClassifier()\n",
    "ada = AdaBoostClassifier()\n",
    "nb = LogisticRegression()\n",
    "\n",
    "t1 = time.time()\n",
    "knn_scores = cross_val_score(knn, X, y, cv=kf)\n",
    "t2 = time.time()\n",
    "dt_scores = cross_val_score(dt, X, y, cv=kf)\n",
    "t3 = time.time()\n",
    "rf_scores = cross_val_score(rf, X, y, cv=kf)\n",
    "t4 = time.time()\n",
    "ada_scores = cross_val_score(ada, X, y, cv=kf)\n",
    "t5 = time.time()\n",
    "nb_scores = cross_val_score(nb, X, y, cv=kf)\n",
    "t6 = time.time()\n",
    "\n",
    "display(\"With 5-fold approach we reached the following results:\")\n",
    "\n",
    "models_info_dict['KNeighborsClassifier'] = {\n",
    "    'accuracy': knn_scores.mean(), 'time': t2 - t1\n",
    "}\n",
    "models_info_dict['DecisionTreeClassifier'] = {\n",
    "    'accuracy': dt_scores.mean(), 'time': t3 - t2\n",
    "}\n",
    "models_info_dict['RandomForestClassifier'] = {\n",
    "    'accuracy': rf_scores.mean(), 'time': t4 - t3\n",
    "}\n",
    "models_info_dict['AdaBoostClassifier'] = {\n",
    "    'accuracy': ada_scores.mean(), 'time': t5 - t4\n",
    "}\n",
    "models_info_dict['Naive Bayes'] = {\n",
    "    'accuracy': nb_scores.mean(), 'time': t6 - t5\n",
    "}\n",
    "\n",
    "display(models_info_dict)"
   ]
  },
  {
   "cell_type": "markdown",
   "id": "75908706",
   "metadata": {},
   "source": [
    "# 10 best features from the dataset"
   ]
  },
  {
   "cell_type": "code",
   "execution_count": 29,
   "id": "bd347be0",
   "metadata": {},
   "outputs": [
    {
     "data": {
      "text/plain": [
       "'10 best features from the dataset:'"
      ]
     },
     "metadata": {},
     "output_type": "display_data"
    },
    {
     "data": {
      "text/plain": [
       "Index(['Postal Code', 'Model Year', 'Make', 'Model', 'Electric Range',\n",
       "       'Legislative District', 'Electric Utility',\n",
       "       'Clean Alternative Fuel Vehicle Eligible',\n",
       "       'Eligibility unknown as battery range has not been researched',\n",
       "       'Not eligible due to low battery range'],\n",
       "      dtype='object')"
      ]
     },
     "metadata": {},
     "output_type": "display_data"
    },
    {
     "data": {
      "text/html": [
       "<div>\n",
       "<style scoped>\n",
       "    .dataframe tbody tr th:only-of-type {\n",
       "        vertical-align: middle;\n",
       "    }\n",
       "\n",
       "    .dataframe tbody tr th {\n",
       "        vertical-align: top;\n",
       "    }\n",
       "\n",
       "    .dataframe thead th {\n",
       "        text-align: right;\n",
       "    }\n",
       "</style>\n",
       "<table border=\"1\" class=\"dataframe\">\n",
       "  <thead>\n",
       "    <tr style=\"text-align: right;\">\n",
       "      <th></th>\n",
       "      <th>Feature</th>\n",
       "      <th>Score</th>\n",
       "    </tr>\n",
       "  </thead>\n",
       "  <tbody>\n",
       "    <tr>\n",
       "      <th>13</th>\n",
       "      <td>Not eligible due to low battery range</td>\n",
       "      <td>146236.874242</td>\n",
       "    </tr>\n",
       "    <tr>\n",
       "      <th>12</th>\n",
       "      <td>Eligibility unknown as battery range has not b...</td>\n",
       "      <td>84322.956212</td>\n",
       "    </tr>\n",
       "    <tr>\n",
       "      <th>7</th>\n",
       "      <td>Electric Range</td>\n",
       "      <td>61209.992531</td>\n",
       "    </tr>\n",
       "    <tr>\n",
       "      <th>5</th>\n",
       "      <td>Make</td>\n",
       "      <td>32668.850515</td>\n",
       "    </tr>\n",
       "    <tr>\n",
       "      <th>6</th>\n",
       "      <td>Model</td>\n",
       "      <td>17095.937840</td>\n",
       "    </tr>\n",
       "    <tr>\n",
       "      <th>4</th>\n",
       "      <td>Model Year</td>\n",
       "      <td>4775.489670</td>\n",
       "    </tr>\n",
       "    <tr>\n",
       "      <th>11</th>\n",
       "      <td>Clean Alternative Fuel Vehicle Eligible</td>\n",
       "      <td>4305.603226</td>\n",
       "    </tr>\n",
       "    <tr>\n",
       "      <th>3</th>\n",
       "      <td>Postal Code</td>\n",
       "      <td>1636.980849</td>\n",
       "    </tr>\n",
       "    <tr>\n",
       "      <th>9</th>\n",
       "      <td>Legislative District</td>\n",
       "      <td>936.559519</td>\n",
       "    </tr>\n",
       "    <tr>\n",
       "      <th>10</th>\n",
       "      <td>Electric Utility</td>\n",
       "      <td>769.817448</td>\n",
       "    </tr>\n",
       "  </tbody>\n",
       "</table>\n",
       "</div>"
      ],
      "text/plain": [
       "                                              Feature          Score\n",
       "13              Not eligible due to low battery range  146236.874242\n",
       "12  Eligibility unknown as battery range has not b...   84322.956212\n",
       "7                                      Electric Range   61209.992531\n",
       "5                                                Make   32668.850515\n",
       "6                                               Model   17095.937840\n",
       "4                                          Model Year    4775.489670\n",
       "11            Clean Alternative Fuel Vehicle Eligible    4305.603226\n",
       "3                                         Postal Code    1636.980849\n",
       "9                                Legislative District     936.559519\n",
       "10                                   Electric Utility     769.817448"
      ]
     },
     "metadata": {},
     "output_type": "display_data"
    }
   ],
   "source": [
    "best_features = SelectKBest(score_func=f_classif, k=10)\n",
    "fit = best_features.fit(X, y)\n",
    "display(\"10 best features from the dataset:\", X.columns[fit.get_support()])\n",
    "df_scores = pd.DataFrame(fit.scores_)\n",
    "df_columns = pd.DataFrame(X.columns)\n",
    "feature_scores = pd.concat([df_columns, df_scores], axis=1)\n",
    "feature_scores.columns = ['Feature', 'Score']\n",
    "display(feature_scores.nlargest(10, 'Score'))"
   ]
  }
 ],
 "metadata": {
  "kernelspec": {
   "display_name": "Python 3 (ipykernel)",
   "language": "python",
   "name": "python3"
  },
  "language_info": {
   "codemirror_mode": {
    "name": "ipython",
    "version": 3
   },
   "file_extension": ".py",
   "mimetype": "text/x-python",
   "name": "python",
   "nbconvert_exporter": "python",
   "pygments_lexer": "ipython3",
   "version": "3.12.3"
  }
 },
 "nbformat": 4,
 "nbformat_minor": 5
}
